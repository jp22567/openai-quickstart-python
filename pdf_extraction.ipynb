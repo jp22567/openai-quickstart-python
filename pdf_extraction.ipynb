{
 "cells": [
  {
   "cell_type": "code",
   "execution_count": 3,
   "metadata": {},
   "outputs": [],
   "source": [
    "from PyPDF2 import PdfReader\n",
    "import pandas as pd\n",
    "import csv\n",
    "import os"
   ]
  },
  {
   "cell_type": "code",
   "execution_count": 2,
   "metadata": {},
   "outputs": [],
   "source": [
    "import PyPDF2"
   ]
  },
  {
   "cell_type": "code",
   "execution_count": 1,
   "metadata": {},
   "outputs": [
    {
     "name": "stdout",
     "output_type": "stream",
     "text": [
      "1773\n"
     ]
    }
   ],
   "source": [
    "name = \"clinical_trial_rank_1773.pdf\"\n",
    "print(name[-8:-4])"
   ]
  },
  {
   "cell_type": "code",
   "execution_count": null,
   "metadata": {},
   "outputs": [],
   "source": [
    "for protocol in os.listdir('protocols'):\n",
    "    pdf_path = f\"protocols/{protocol}\"\n",
    "    try:\n",
    "        reader = PdfReader(pdf_path, strict=True)\n",
    "        number_of_pages = len(reader.pages)\n",
    "        page = reader.pages[0]\n",
    "        text = page.extract_text()\n",
    "        name = f\"trial{protocol[-8:-4]}\"\n",
    "        path = f\"PyPDF_protocols/{name}.csv\"\n",
    "        with open(path, 'x', encoding='utf8') as f:\n",
    "            writer = csv.writer(f)\n",
    "            header = ['','PageNo', 'Text']\n",
    "            writer.writerow(header)\n",
    "            i = 0\n",
    "            while i < number_of_pages:\n",
    "                page = reader.pages[i]\n",
    "                text = page.extract_text()\n",
    "                text = ' '.join(text.split())\n",
    "                data = [i, f'page_{i}', text]\n",
    "                writer.writerow(data)\n",
    "                i += 1\n",
    "    except:\n",
    "        print(protocol)"
   ]
  },
  {
   "cell_type": "code",
   "execution_count": 8,
   "metadata": {},
   "outputs": [],
   "source": [
    "reader = PdfReader(\"clinical_trial_rank_1773.pdf\", strict=True)\n",
    "number_of_pages = len(reader.pages)\n",
    "page = reader.pages[0]\n",
    "text = page.extract_text()"
   ]
  },
  {
   "cell_type": "code",
   "execution_count": null,
   "metadata": {},
   "outputs": [],
   "source": [
    "reader = PdfReader(\"clinical_trial_rank_1773.pdf\", strict=True)\n",
    "number_of_pages = len(reader.pages)\n",
    "page = reader.pages[0]._get_fonts()\n",
    "# text = page.extract_text()"
   ]
  },
  {
   "cell_type": "code",
   "execution_count": null,
   "metadata": {},
   "outputs": [],
   "source": []
  },
  {
   "cell_type": "code",
   "execution_count": 5,
   "metadata": {},
   "outputs": [
    {
     "name": "stdout",
     "output_type": "stream",
     "text": [
      "Official Title of the study:  Effect of breathing exercise on some \n",
      "physiological parameters, sleep quality and vitality in elderly.\n",
      "NCT number:  not yet have \n",
      "Date of the document:  January 1, 2019\n"
     ]
    }
   ],
   "source": [
    "print(text.)"
   ]
  },
  {
   "cell_type": "code",
   "execution_count": 86,
   "metadata": {},
   "outputs": [],
   "source": [
    "with open('trial1773.csv', 'w', encoding='utf8') as f:\n",
    "    writer = csv.writer(f)\n",
    "    header = ['','PageNo', 'Text']\n",
    "    writer.writerow(header)\n",
    "    i = 0\n",
    "    while i < number_of_pages:\n",
    "        page = reader.pages[i]\n",
    "        text = page.extract_text()\n",
    "        text = ' '.join(text.split())\n",
    "        data = [i, f'page_{i}', text]\n",
    "        writer.writerow(data)\n",
    "        i += 1"
   ]
  },
  {
   "cell_type": "code",
   "execution_count": 7,
   "metadata": {},
   "outputs": [],
   "source": [
    "pypdf1 = pd.read_csv('trial1.csv')\n",
    "textract = pd.read_csv('text.csv')"
   ]
  },
  {
   "cell_type": "code",
   "execution_count": 88,
   "metadata": {},
   "outputs": [],
   "source": [
    "with open('trial1ocr.csv', 'r+', encoding='utf8') as f:\n",
    "    text = f.readlines()\n",
    "    for line in text:\n",
    "        line.replace(',', '')\n",
    "    "
   ]
  },
  {
   "cell_type": "code",
   "execution_count": null,
   "metadata": {},
   "outputs": [],
   "source": [
    "ocr1 = pd.read_csv('trial1ocr.csv')"
   ]
  },
  {
   "cell_type": "code",
   "execution_count": 90,
   "metadata": {},
   "outputs": [
    {
     "data": {
      "text/plain": [
       "(51, 3)"
      ]
     },
     "execution_count": 90,
     "metadata": {},
     "output_type": "execute_result"
    }
   ],
   "source": [
    "pypdf1.shape"
   ]
  },
  {
   "cell_type": "code",
   "execution_count": 15,
   "metadata": {},
   "outputs": [
    {
     "name": "stdout",
     "output_type": "stream",
     "text": [
      "Non -Interventional Study Protocol Study Short Title Evaluation of the sensitivity and specifi city of a novel quality of life (Qo L) tool to assess the treatment satisfaction in psoriasis patients STUDY IDENTIFICATION No . 2020 -A00652 -37 Full Study T itle Evaluation of the sensitivity and specifi city, compared to DLQI as a standard tool, of a novel QoL questionnaire (treat to the PSOriasis p atient satiSfacti On TARGET ) among moderate to severe psoriasis patient s treated with brodalumab (Kyntheum®) GPP statement: This Non-Interventional Study will be conducted in compliance with the Clinical Study Protocol, G ood Pharmacoepidemiology Practices and applicable regulatory requirement(s). Sponsoring entity : LEO Pharma France LEO Study ID : PSO-TARGET 2 rue René Caudron 215 avenue Georges Clemenceau 78960 Voisins -Le-Bretonneux Date: 25-05-2020 Version: 2.0\n"
     ]
    }
   ],
   "source": [
    "# print(textract['Text'][25])\n",
    "# print()\n",
    "print(pypdf1['Text'][0])\n",
    "# print(' ||| '.join(pypdf1['Text'][0].split('\\n')))\n",
    "# print(textract['Text'][0])"
   ]
  }
 ],
 "metadata": {
  "kernelspec": {
   "display_name": "Python 3",
   "language": "python",
   "name": "python3"
  },
  "language_info": {
   "codemirror_mode": {
    "name": "ipython",
    "version": 3
   },
   "file_extension": ".py",
   "mimetype": "text/x-python",
   "name": "python",
   "nbconvert_exporter": "python",
   "pygments_lexer": "ipython3",
   "version": "3.9.1"
  },
  "orig_nbformat": 4,
  "vscode": {
   "interpreter": {
    "hash": "12d4f619691cb3c8cdb4fc1bac3542d3bd06428ac0d8596b7ce847b27c5c0d5e"
   }
  }
 },
 "nbformat": 4,
 "nbformat_minor": 2
}
