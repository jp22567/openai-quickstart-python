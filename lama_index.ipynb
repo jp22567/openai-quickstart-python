{
 "cells": [
  {
   "cell_type": "code",
   "execution_count": 1,
   "metadata": {},
   "outputs": [],
   "source": [
    "# Import necessary packages\n",
    "import os\n",
    "import pickle\n",
    "\n",
    "from google.auth.transport.requests import Request\n",
    "\n",
    "from google_auth_oauthlib.flow import InstalledAppFlow\n",
    "from llama_index import GPTSimpleVectorIndex, download_loader"
   ]
  },
  {
   "cell_type": "code",
   "execution_count": null,
   "metadata": {},
   "outputs": [],
   "source": [
    "def authorize_gdocs():\n",
    "    google_oauth2_scopes = [\n",
    "        \"https://www.googleapis.com/auth/documents.readonly\"\n",
    "    ]\n",
    "    cred = None\n",
    "    if os.path.exists(\"token.pickle\"):\n",
    "        with open(\"token.pickle\", 'rb') as token:\n",
    "            cred = pickle.load(token)\n",
    "    if not cred or not cred.valid:\n",
    "        if cred and cred.expired and cred.refresh_token:\n",
    "            cred.refresh(Request())\n",
    "        else:\n",
    "            flow = InstalledAppFlow.from_client_secrets_file(\"credentials.json\", google_oauth2_scopes)\n",
    "            cred = flow.run_local_server(port=0)\n",
    "        with open(\"token.pickle\", 'wb') as token:\n",
    "            pickle.dump(cred, token)"
   ]
  }
 ],
 "metadata": {
  "kernelspec": {
   "display_name": "Python 3",
   "language": "python",
   "name": "python3"
  },
  "language_info": {
   "codemirror_mode": {
    "name": "ipython",
    "version": 3
   },
   "file_extension": ".py",
   "mimetype": "text/x-python",
   "name": "python",
   "nbconvert_exporter": "python",
   "pygments_lexer": "ipython3",
   "version": "3.9.1"
  },
  "orig_nbformat": 4
 },
 "nbformat": 4,
 "nbformat_minor": 2
}
