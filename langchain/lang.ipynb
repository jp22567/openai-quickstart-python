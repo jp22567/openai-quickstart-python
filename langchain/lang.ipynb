{
 "cells": [
  {
   "cell_type": "code",
   "execution_count": 18,
   "metadata": {},
   "outputs": [],
   "source": [
    "from langchain import OpenAI\n",
    "from langchain.chains import RetrievalQA\n",
    "from langchain.document_loaders import TextLoader\n",
    "from langchain.indexes import VectorstoreIndexCreator\n",
    "from langchain.chat_models import ChatOpenAI"
   ]
  },
  {
   "cell_type": "code",
   "execution_count": 12,
   "metadata": {},
   "outputs": [],
   "source": [
    "loader = TextLoader('state_of_the_union.txt', encoding='utf-8')"
   ]
  },
  {
   "cell_type": "code",
   "execution_count": null,
   "metadata": {},
   "outputs": [],
   "source": []
  },
  {
   "cell_type": "code",
   "execution_count": 13,
   "metadata": {},
   "outputs": [
    {
     "name": "stderr",
     "output_type": "stream",
     "text": [
      "Using embedded DuckDB without persistence: data will be transient\n"
     ]
    }
   ],
   "source": [
    "index = VectorstoreIndexCreator().from_loaders([loader])"
   ]
  },
  {
   "cell_type": "code",
   "execution_count": 14,
   "metadata": {},
   "outputs": [],
   "source": [
    "text = \"\"\"Assessment/Measure\tNo. Questions\tScreening\tBaseline\tComplete Online course\tOne month after Online course\t6 months after Online course\t12 months after Online course\t2.5 years after Online course\n",
    "Informed consent\t1\tNOT SELECTED X\tSELECTED X\tNOT SELECTED X\tNOT SELECTED X\tNOT SELECTED X\tNOT SELECTED X\tNOT SELECTED X\n",
    "Age\t1\tSELECTED X\tSELECTED X\tNOT SELECTED X\tNOT SELECTED X\tNOT SELECTED X\tNOT SELECTED X\tNOT SELECTED X\n",
    "MS type diagnosed\t2\tSELECTED X\tSELECTED X\tNOT SELECTED X\tNOT SELECTED X\tSELECTED X\tSELECTED X\tSELECTED X\n",
    "MS duration\t2\tSELECTED X\tSELECTED X\tNOT SELECTED X\tNOT SELECTED X\tSELECTED X\tSELECTED X\tSELECTED X\n",
    "Do you follow a MS-specific lifestyle program?\t2\tSELECTED X\tSELECTED X\tNOT SELECTED X\tNOT SELECTED X\tSELECTED X\tSELECTED X\tSELECTED  X\n",
    "Do you follow a MS-specific diet\t2\tSELECTED X\tSELECTED X\tNOT SELECTED X\tNOT SELECTED X\tSELECTED X\tSELECTED X\tSELECTED X\n",
    "Sex and gender\t2\tNOT SELECTED X\tSELECTED X\tNOT SELECTED X\tNOT SELECTED X\tNOT SELECTED X\tNOT SELECTED X\tNOT SELECTED X\n",
    "Residential address and country\t1\tNOT SELECTED X\tSELECTED X\tNOT SELECTED X\tNOT SELECTED X\tNOT SELECTED X\tNOT SELECTED X\tSELECTED X\n",
    "Country of birth\t1\tNOT SELECTED X\tSELECTED X\tNOT SELECTED X\tNOT SELECTED X\tNOT SELECTED X\tNOT SELECTED X\tNOT SELECTED X\n",
    "Height/weight\t2\tNOT SELECTED X\tSELECTED X\tNOT SELECTED X\tNOT SELECTED X\tSELECTED X\tSELECTED X\tSELECTED X\n",
    "Comorbidities\t2\tNOT SELECTED X\tSELECTED X\tNOT SELECTED X\tNOT SELECTED X\tSELECTED X\tSELECTED X\tSELECTED X\n",
    "Marital status\t1\tNOT SELECTED X\tSELECTED X\tNOT SELECTED X\tNOT SELECTED X\tSELECTED X\tSELECTED X\tSELECTED X\n",
    "Education\t1\tNOT SELECTED X\tSELECTED X\tNOT SELECTED X\tNOT SELECTED X\tNOT SELECTED X\tNOT SELECTED X\tNOT SELECTED X\n",
    "Employment status\t1\tNOT SELECTED X\tSELECTED X\tNOT SELECTED X\tNOT SELECTED X\tSELECTED X\tSELECTED X\tSELECTED X\n",
    "Alcohol and smoking\t4\tNOT SELECTED X\tSELECTED X\tNOT SELECTED X\tNOT SELECTED X\tSELECTED X\tSELECTED X\tSELECTED X\n",
    "Medications\t4\tNOT SELECTED X\tSELECTED X\tNOT SELECTED X\tNOT SELECTED X\tSELECTED X\tSELECTED X\tSELECTED X\n",
    "Perceived Social Support\t12\tNOT SELECTED X\tSELECTED X\tNOT SELECTED X\tNOT SELECTED X\tSELECTED X\tSELECTED X\tSELECTED X\n",
    "Lifestyle factors\t\tNOT SELECTED X\tNOT SELECTED X\tNOT SELECTED X\tNOT SELECTED X\tNOT SELECTED X\tNOT SELECTED X\tNOT SELECTED X\n",
    "Physical activity: IPAQ-SF\t7\tNOT SELECTED X\tSELECTED X\tNOT SELECTED X\tNOT SELECTED X\tSELECTED X\tSELECTED X\tSELECTED X\n",
    "Meditation: MAQ\t3\tNOT SELECTED X\tSELECTED X\tNOT SELECTED X\tNOT SELECTED X\tSELECTED X\tSELECTED X\tSELECTED X\n",
    "Sun exposure\t4\tNOT SELECTED X\tSELECTED X\tNOT SELECTED X\tNOT SELECTED X\tSELECTED X\tSELECTED X\tSELECTED X\n",
    "Diet quality: DHQ\t21\tNOT SELECTED X\tSELECTED X\tNOT SELECTED X\tNOT SELECTED X\tSELECTED X\tSELECTED X\tSELECTED X\n",
    "Omega-3 intake: dose, frequency\t3\tNOT SELECTED X\tSELECTED X\tNOT SELECTED X\tNOT SELECTED X\tSELECTED X\tSELECTED X\tSELECTED X\n",
    "Vitamin D intake: dose, frequency\t3\tSELECTED  X\tNOT SELECTED X\tNOT SELECTED X\tSELECTED  X\tSELECTED X\tSELECTED X\tSELECTED X\n",
    "Health outcomes\t\tNOT SELECTED X\tNOT SELECTED X\tNOT SELECTED X\tNOT SELECTED X\tNOT SELECTED X\tNOT SELECTED X\tNOT SELECTED X\n",
    "HRQOL: MSQOL-54\t54\tSELECTED X\tNOT SELECTED X\tNOT SELECTED X\tSELECTED X\tSELECTED X\tSELECTED X\tNOT SELECTED X\n",
    "Disability: PDDS\t1\tSELECTED X\tNOT SELECTED X\tNOT SELECTED X\tSELECTED X\tSELECTED X\tSELECTED X\tNOT SELECTED X\n",
    "Anxiety and depression: HADS\t14\tSELECTED X\tNOT SELECTED X\tNOT SELECTED X\tSELECTED X\tSELECTED X\tSELECTED X\tNOT SELECTED X\n",
    "Fatigue: FSS\t9\tSELECTED X\tNOT SELECTED X\tNOT SELECTED X\tSELECTED  X\tSELECTED X\tSELECTED  X\tNOT SELECTED X\n",
    "Self-efficacy: UWSE-6\t6\tSELECTED X\tNOT SELECTED X\tNOT SELECTED X\tSELECTED X\tSELECTED X\tSELECTED X\tNOT SELECTED X\n",
    "Qualitative interviewing\t-7\tNOT SELECTED X\tSELECTED X\tNOT SELECTED X\tNOT SELECTED X\tSELECTED X\tNOT SELECTED X\tNOT SELECTED X\n",
    "\n",
    "\"\"\""
   ]
  },
  {
   "cell_type": "code",
   "execution_count": 15,
   "metadata": {},
   "outputs": [],
   "source": [
    "llm = ChatOpenAI(model_name=\"gpt-3.5-turbo\", )"
   ]
  },
  {
   "cell_type": "code",
   "execution_count": null,
   "metadata": {},
   "outputs": [],
   "source": [
    "qa = RetrievalQA.from_chain_type(llm=llm, chain_type=\"stuff\", retriever=docsearch.as_retriever(search_kwargs={\"k\": 1}))"
   ]
  },
  {
   "cell_type": "code",
   "execution_count": 16,
   "metadata": {},
   "outputs": [
    {
     "ename": "NotEnoughElementsException",
     "evalue": "Number of requested results 4 cannot be greater than number of elements in index 1",
     "output_type": "error",
     "traceback": [
      "\u001b[1;31m---------------------------------------------------------------------------\u001b[0m",
      "\u001b[1;31mNotEnoughElementsException\u001b[0m                Traceback (most recent call last)",
      "Cell \u001b[1;32mIn[16], line 2\u001b[0m\n\u001b[0;32m      1\u001b[0m query \u001b[39m=\u001b[39m \u001b[39mf\u001b[39m\u001b[39m\"\u001b[39m\u001b[39mGive me a list of validated clinical questionnaires used in this text: \u001b[39m\u001b[39m{\u001b[39;00mtext\u001b[39m}\u001b[39;00m\u001b[39m\"\u001b[39m\n\u001b[1;32m----> 2\u001b[0m index\u001b[39m.\u001b[39;49mquery(query, llm\u001b[39m=\u001b[39;49mllm)\n",
      "File \u001b[1;32mc:\\Users\\Jakub\\AppData\\Local\\Programs\\Python\\Python39\\lib\\site-packages\\langchain\\indexes\\vectorstore.py:38\u001b[0m, in \u001b[0;36mVectorStoreIndexWrapper.query\u001b[1;34m(self, question, llm, **kwargs)\u001b[0m\n\u001b[0;32m     34\u001b[0m llm \u001b[39m=\u001b[39m llm \u001b[39mor\u001b[39;00m OpenAI(temperature\u001b[39m=\u001b[39m\u001b[39m0\u001b[39m)\n\u001b[0;32m     35\u001b[0m chain \u001b[39m=\u001b[39m RetrievalQA\u001b[39m.\u001b[39mfrom_chain_type(\n\u001b[0;32m     36\u001b[0m     llm, retriever\u001b[39m=\u001b[39m\u001b[39mself\u001b[39m\u001b[39m.\u001b[39mvectorstore\u001b[39m.\u001b[39mas_retriever(), \u001b[39m*\u001b[39m\u001b[39m*\u001b[39mkwargs\n\u001b[0;32m     37\u001b[0m )\n\u001b[1;32m---> 38\u001b[0m \u001b[39mreturn\u001b[39;00m chain\u001b[39m.\u001b[39;49mrun(question)\n",
      "File \u001b[1;32mc:\\Users\\Jakub\\AppData\\Local\\Programs\\Python\\Python39\\lib\\site-packages\\langchain\\chains\\base.py:213\u001b[0m, in \u001b[0;36mChain.run\u001b[1;34m(self, *args, **kwargs)\u001b[0m\n\u001b[0;32m    211\u001b[0m     \u001b[39mif\u001b[39;00m \u001b[39mlen\u001b[39m(args) \u001b[39m!=\u001b[39m \u001b[39m1\u001b[39m:\n\u001b[0;32m    212\u001b[0m         \u001b[39mraise\u001b[39;00m \u001b[39mValueError\u001b[39;00m(\u001b[39m\"\u001b[39m\u001b[39m`run` supports only one positional argument.\u001b[39m\u001b[39m\"\u001b[39m)\n\u001b[1;32m--> 213\u001b[0m     \u001b[39mreturn\u001b[39;00m \u001b[39mself\u001b[39;49m(args[\u001b[39m0\u001b[39;49m])[\u001b[39mself\u001b[39m\u001b[39m.\u001b[39moutput_keys[\u001b[39m0\u001b[39m]]\n\u001b[0;32m    215\u001b[0m \u001b[39mif\u001b[39;00m kwargs \u001b[39mand\u001b[39;00m \u001b[39mnot\u001b[39;00m args:\n\u001b[0;32m    216\u001b[0m     \u001b[39mreturn\u001b[39;00m \u001b[39mself\u001b[39m(kwargs)[\u001b[39mself\u001b[39m\u001b[39m.\u001b[39moutput_keys[\u001b[39m0\u001b[39m]]\n",
      "File \u001b[1;32mc:\\Users\\Jakub\\AppData\\Local\\Programs\\Python\\Python39\\lib\\site-packages\\langchain\\chains\\base.py:116\u001b[0m, in \u001b[0;36mChain.__call__\u001b[1;34m(self, inputs, return_only_outputs)\u001b[0m\n\u001b[0;32m    114\u001b[0m \u001b[39mexcept\u001b[39;00m (\u001b[39mKeyboardInterrupt\u001b[39;00m, \u001b[39mException\u001b[39;00m) \u001b[39mas\u001b[39;00m e:\n\u001b[0;32m    115\u001b[0m     \u001b[39mself\u001b[39m\u001b[39m.\u001b[39mcallback_manager\u001b[39m.\u001b[39mon_chain_error(e, verbose\u001b[39m=\u001b[39m\u001b[39mself\u001b[39m\u001b[39m.\u001b[39mverbose)\n\u001b[1;32m--> 116\u001b[0m     \u001b[39mraise\u001b[39;00m e\n\u001b[0;32m    117\u001b[0m \u001b[39mself\u001b[39m\u001b[39m.\u001b[39mcallback_manager\u001b[39m.\u001b[39mon_chain_end(outputs, verbose\u001b[39m=\u001b[39m\u001b[39mself\u001b[39m\u001b[39m.\u001b[39mverbose)\n\u001b[0;32m    118\u001b[0m \u001b[39mreturn\u001b[39;00m \u001b[39mself\u001b[39m\u001b[39m.\u001b[39mprep_outputs(inputs, outputs, return_only_outputs)\n",
      "File \u001b[1;32mc:\\Users\\Jakub\\AppData\\Local\\Programs\\Python\\Python39\\lib\\site-packages\\langchain\\chains\\base.py:113\u001b[0m, in \u001b[0;36mChain.__call__\u001b[1;34m(self, inputs, return_only_outputs)\u001b[0m\n\u001b[0;32m    107\u001b[0m \u001b[39mself\u001b[39m\u001b[39m.\u001b[39mcallback_manager\u001b[39m.\u001b[39mon_chain_start(\n\u001b[0;32m    108\u001b[0m     {\u001b[39m\"\u001b[39m\u001b[39mname\u001b[39m\u001b[39m\"\u001b[39m: \u001b[39mself\u001b[39m\u001b[39m.\u001b[39m\u001b[39m__class__\u001b[39m\u001b[39m.\u001b[39m\u001b[39m__name__\u001b[39m},\n\u001b[0;32m    109\u001b[0m     inputs,\n\u001b[0;32m    110\u001b[0m     verbose\u001b[39m=\u001b[39m\u001b[39mself\u001b[39m\u001b[39m.\u001b[39mverbose,\n\u001b[0;32m    111\u001b[0m )\n\u001b[0;32m    112\u001b[0m \u001b[39mtry\u001b[39;00m:\n\u001b[1;32m--> 113\u001b[0m     outputs \u001b[39m=\u001b[39m \u001b[39mself\u001b[39;49m\u001b[39m.\u001b[39;49m_call(inputs)\n\u001b[0;32m    114\u001b[0m \u001b[39mexcept\u001b[39;00m (\u001b[39mKeyboardInterrupt\u001b[39;00m, \u001b[39mException\u001b[39;00m) \u001b[39mas\u001b[39;00m e:\n\u001b[0;32m    115\u001b[0m     \u001b[39mself\u001b[39m\u001b[39m.\u001b[39mcallback_manager\u001b[39m.\u001b[39mon_chain_error(e, verbose\u001b[39m=\u001b[39m\u001b[39mself\u001b[39m\u001b[39m.\u001b[39mverbose)\n",
      "File \u001b[1;32mc:\\Users\\Jakub\\AppData\\Local\\Programs\\Python\\Python39\\lib\\site-packages\\langchain\\chains\\retrieval_qa\\base.py:109\u001b[0m, in \u001b[0;36mBaseRetrievalQA._call\u001b[1;34m(self, inputs)\u001b[0m\n\u001b[0;32m     96\u001b[0m \u001b[39m\"\"\"Run get_relevant_text and llm on input query.\u001b[39;00m\n\u001b[0;32m     97\u001b[0m \n\u001b[0;32m     98\u001b[0m \u001b[39mIf chain has 'return_source_documents' as 'True', returns\u001b[39;00m\n\u001b[1;32m   (...)\u001b[0m\n\u001b[0;32m    105\u001b[0m \u001b[39manswer, docs = res['result'], res['source_documents']\u001b[39;00m\n\u001b[0;32m    106\u001b[0m \u001b[39m\"\"\"\u001b[39;00m\n\u001b[0;32m    107\u001b[0m question \u001b[39m=\u001b[39m inputs[\u001b[39mself\u001b[39m\u001b[39m.\u001b[39minput_key]\n\u001b[1;32m--> 109\u001b[0m docs \u001b[39m=\u001b[39m \u001b[39mself\u001b[39;49m\u001b[39m.\u001b[39;49m_get_docs(question)\n\u001b[0;32m    110\u001b[0m answer, _ \u001b[39m=\u001b[39m \u001b[39mself\u001b[39m\u001b[39m.\u001b[39mcombine_documents_chain\u001b[39m.\u001b[39mcombine_docs(docs, question\u001b[39m=\u001b[39mquestion)\n\u001b[0;32m    112\u001b[0m \u001b[39mif\u001b[39;00m \u001b[39mself\u001b[39m\u001b[39m.\u001b[39mreturn_source_documents:\n",
      "File \u001b[1;32mc:\\Users\\Jakub\\AppData\\Local\\Programs\\Python\\Python39\\lib\\site-packages\\langchain\\chains\\retrieval_qa\\base.py:163\u001b[0m, in \u001b[0;36mRetrievalQA._get_docs\u001b[1;34m(self, question)\u001b[0m\n\u001b[0;32m    162\u001b[0m \u001b[39mdef\u001b[39;00m \u001b[39m_get_docs\u001b[39m(\u001b[39mself\u001b[39m, question: \u001b[39mstr\u001b[39m) \u001b[39m-\u001b[39m\u001b[39m>\u001b[39m List[Document]:\n\u001b[1;32m--> 163\u001b[0m     \u001b[39mreturn\u001b[39;00m \u001b[39mself\u001b[39;49m\u001b[39m.\u001b[39;49mretriever\u001b[39m.\u001b[39;49mget_relevant_documents(question)\n",
      "File \u001b[1;32mc:\\Users\\Jakub\\AppData\\Local\\Programs\\Python\\Python39\\lib\\site-packages\\langchain\\vectorstores\\base.py:225\u001b[0m, in \u001b[0;36mVectorStoreRetriever.get_relevant_documents\u001b[1;34m(self, query)\u001b[0m\n\u001b[0;32m    223\u001b[0m \u001b[39mdef\u001b[39;00m \u001b[39mget_relevant_documents\u001b[39m(\u001b[39mself\u001b[39m, query: \u001b[39mstr\u001b[39m) \u001b[39m-\u001b[39m\u001b[39m>\u001b[39m List[Document]:\n\u001b[0;32m    224\u001b[0m     \u001b[39mif\u001b[39;00m \u001b[39mself\u001b[39m\u001b[39m.\u001b[39msearch_type \u001b[39m==\u001b[39m \u001b[39m\"\u001b[39m\u001b[39msimilarity\u001b[39m\u001b[39m\"\u001b[39m:\n\u001b[1;32m--> 225\u001b[0m         docs \u001b[39m=\u001b[39m \u001b[39mself\u001b[39m\u001b[39m.\u001b[39mvectorstore\u001b[39m.\u001b[39msimilarity_search(query, \u001b[39m*\u001b[39m\u001b[39m*\u001b[39m\u001b[39mself\u001b[39m\u001b[39m.\u001b[39msearch_kwargs)\n\u001b[0;32m    226\u001b[0m     \u001b[39melif\u001b[39;00m \u001b[39mself\u001b[39m\u001b[39m.\u001b[39msearch_type \u001b[39m==\u001b[39m \u001b[39m\"\u001b[39m\u001b[39mmmr\u001b[39m\u001b[39m\"\u001b[39m:\n\u001b[0;32m    227\u001b[0m         docs \u001b[39m=\u001b[39m \u001b[39mself\u001b[39m\u001b[39m.\u001b[39mvectorstore\u001b[39m.\u001b[39mmax_marginal_relevance_search(\n\u001b[0;32m    228\u001b[0m             query, \u001b[39m*\u001b[39m\u001b[39m*\u001b[39m\u001b[39mself\u001b[39m\u001b[39m.\u001b[39msearch_kwargs\n\u001b[0;32m    229\u001b[0m         )\n",
      "File \u001b[1;32mc:\\Users\\Jakub\\AppData\\Local\\Programs\\Python\\Python39\\lib\\site-packages\\langchain\\vectorstores\\chroma.py:138\u001b[0m, in \u001b[0;36mChroma.similarity_search\u001b[1;34m(self, query, k, filter, **kwargs)\u001b[0m\n\u001b[0;32m    121\u001b[0m \u001b[39mdef\u001b[39;00m \u001b[39msimilarity_search\u001b[39m(\n\u001b[0;32m    122\u001b[0m     \u001b[39mself\u001b[39m,\n\u001b[0;32m    123\u001b[0m     query: \u001b[39mstr\u001b[39m,\n\u001b[1;32m   (...)\u001b[0m\n\u001b[0;32m    126\u001b[0m     \u001b[39m*\u001b[39m\u001b[39m*\u001b[39mkwargs: Any,\n\u001b[0;32m    127\u001b[0m ) \u001b[39m-\u001b[39m\u001b[39m>\u001b[39m List[Document]:\n\u001b[0;32m    128\u001b[0m     \u001b[39m\"\"\"Run similarity search with Chroma.\u001b[39;00m\n\u001b[0;32m    129\u001b[0m \n\u001b[0;32m    130\u001b[0m \u001b[39m    Args:\u001b[39;00m\n\u001b[1;32m   (...)\u001b[0m\n\u001b[0;32m    136\u001b[0m \u001b[39m        List[Document]: List of documents most similar to the query text.\u001b[39;00m\n\u001b[0;32m    137\u001b[0m \u001b[39m    \"\"\"\u001b[39;00m\n\u001b[1;32m--> 138\u001b[0m     docs_and_scores \u001b[39m=\u001b[39m \u001b[39mself\u001b[39;49m\u001b[39m.\u001b[39;49msimilarity_search_with_score(query, k, \u001b[39mfilter\u001b[39;49m\u001b[39m=\u001b[39;49m\u001b[39mfilter\u001b[39;49m)\n\u001b[0;32m    139\u001b[0m     \u001b[39mreturn\u001b[39;00m [doc \u001b[39mfor\u001b[39;00m doc, _ \u001b[39min\u001b[39;00m docs_and_scores]\n",
      "File \u001b[1;32mc:\\Users\\Jakub\\AppData\\Local\\Programs\\Python\\Python39\\lib\\site-packages\\langchain\\vectorstores\\chroma.py:184\u001b[0m, in \u001b[0;36mChroma.similarity_search_with_score\u001b[1;34m(self, query, k, filter, **kwargs)\u001b[0m\n\u001b[0;32m    182\u001b[0m \u001b[39melse\u001b[39;00m:\n\u001b[0;32m    183\u001b[0m     query_embedding \u001b[39m=\u001b[39m \u001b[39mself\u001b[39m\u001b[39m.\u001b[39m_embedding_function\u001b[39m.\u001b[39membed_query(query)\n\u001b[1;32m--> 184\u001b[0m     results \u001b[39m=\u001b[39m \u001b[39mself\u001b[39;49m\u001b[39m.\u001b[39;49m_collection\u001b[39m.\u001b[39;49mquery(\n\u001b[0;32m    185\u001b[0m         query_embeddings\u001b[39m=\u001b[39;49m[query_embedding], n_results\u001b[39m=\u001b[39;49mk, where\u001b[39m=\u001b[39;49m\u001b[39mfilter\u001b[39;49m\n\u001b[0;32m    186\u001b[0m     )\n\u001b[0;32m    188\u001b[0m \u001b[39mreturn\u001b[39;00m _results_to_docs_and_scores(results)\n",
      "File \u001b[1;32mc:\\Users\\Jakub\\AppData\\Local\\Programs\\Python\\Python39\\lib\\site-packages\\chromadb\\api\\models\\Collection.py:202\u001b[0m, in \u001b[0;36mCollection.query\u001b[1;34m(self, query_embeddings, query_texts, n_results, where, where_document, include)\u001b[0m\n\u001b[0;32m    199\u001b[0m \u001b[39mif\u001b[39;00m where_document \u001b[39mis\u001b[39;00m \u001b[39mNone\u001b[39;00m:\n\u001b[0;32m    200\u001b[0m     where_document \u001b[39m=\u001b[39m {}\n\u001b[1;32m--> 202\u001b[0m \u001b[39mreturn\u001b[39;00m \u001b[39mself\u001b[39;49m\u001b[39m.\u001b[39;49m_client\u001b[39m.\u001b[39;49m_query(\n\u001b[0;32m    203\u001b[0m     collection_name\u001b[39m=\u001b[39;49m\u001b[39mself\u001b[39;49m\u001b[39m.\u001b[39;49mname,\n\u001b[0;32m    204\u001b[0m     query_embeddings\u001b[39m=\u001b[39;49mquery_embeddings,\n\u001b[0;32m    205\u001b[0m     n_results\u001b[39m=\u001b[39;49mn_results,\n\u001b[0;32m    206\u001b[0m     where\u001b[39m=\u001b[39;49mwhere,\n\u001b[0;32m    207\u001b[0m     where_document\u001b[39m=\u001b[39;49mwhere_document,\n\u001b[0;32m    208\u001b[0m     include\u001b[39m=\u001b[39;49minclude,\n\u001b[0;32m    209\u001b[0m )\n",
      "File \u001b[1;32mc:\\Users\\Jakub\\AppData\\Local\\Programs\\Python\\Python39\\lib\\site-packages\\chromadb\\api\\local.py:247\u001b[0m, in \u001b[0;36mLocalAPI._query\u001b[1;34m(self, collection_name, query_embeddings, n_results, where, where_document, include)\u001b[0m\n\u001b[0;32m    238\u001b[0m \u001b[39mdef\u001b[39;00m \u001b[39m_query\u001b[39m(\n\u001b[0;32m    239\u001b[0m     \u001b[39mself\u001b[39m,\n\u001b[0;32m    240\u001b[0m     collection_name,\n\u001b[1;32m   (...)\u001b[0m\n\u001b[0;32m    245\u001b[0m     include: Include \u001b[39m=\u001b[39m [\u001b[39m\"\u001b[39m\u001b[39mdocuments\u001b[39m\u001b[39m\"\u001b[39m, \u001b[39m\"\u001b[39m\u001b[39mmetadatas\u001b[39m\u001b[39m\"\u001b[39m, \u001b[39m\"\u001b[39m\u001b[39mdistances\u001b[39m\u001b[39m\"\u001b[39m],\n\u001b[0;32m    246\u001b[0m ):\n\u001b[1;32m--> 247\u001b[0m     uuids, distances \u001b[39m=\u001b[39m \u001b[39mself\u001b[39;49m\u001b[39m.\u001b[39;49m_db\u001b[39m.\u001b[39;49mget_nearest_neighbors(\n\u001b[0;32m    248\u001b[0m         collection_name\u001b[39m=\u001b[39;49mcollection_name,\n\u001b[0;32m    249\u001b[0m         where\u001b[39m=\u001b[39;49mwhere,\n\u001b[0;32m    250\u001b[0m         where_document\u001b[39m=\u001b[39;49mwhere_document,\n\u001b[0;32m    251\u001b[0m         embeddings\u001b[39m=\u001b[39;49mquery_embeddings,\n\u001b[0;32m    252\u001b[0m         n_results\u001b[39m=\u001b[39;49mn_results,\n\u001b[0;32m    253\u001b[0m     )\n\u001b[0;32m    255\u001b[0m     include_embeddings \u001b[39m=\u001b[39m \u001b[39m\"\u001b[39m\u001b[39membeddings\u001b[39m\u001b[39m\"\u001b[39m \u001b[39min\u001b[39;00m include\n\u001b[0;32m    256\u001b[0m     include_documents \u001b[39m=\u001b[39m \u001b[39m\"\u001b[39m\u001b[39mdocuments\u001b[39m\u001b[39m\"\u001b[39m \u001b[39min\u001b[39;00m include\n",
      "File \u001b[1;32mc:\\Users\\Jakub\\AppData\\Local\\Programs\\Python\\Python39\\lib\\site-packages\\chromadb\\db\\clickhouse.py:520\u001b[0m, in \u001b[0;36mClickhouse.get_nearest_neighbors\u001b[1;34m(self, where, where_document, embeddings, n_results, collection_name, collection_uuid)\u001b[0m\n\u001b[0;32m    517\u001b[0m     ids \u001b[39m=\u001b[39m \u001b[39mNone\u001b[39;00m\n\u001b[0;32m    519\u001b[0m index \u001b[39m=\u001b[39m \u001b[39mself\u001b[39m\u001b[39m.\u001b[39m_index(collection_uuid)\n\u001b[1;32m--> 520\u001b[0m uuids, distances \u001b[39m=\u001b[39m index\u001b[39m.\u001b[39;49mget_nearest_neighbors(embeddings, n_results, ids)\n\u001b[0;32m    522\u001b[0m \u001b[39mreturn\u001b[39;00m uuids, distances\n",
      "File \u001b[1;32mc:\\Users\\Jakub\\AppData\\Local\\Programs\\Python\\Python39\\lib\\site-packages\\chromadb\\db\\index\\hnswlib.py:229\u001b[0m, in \u001b[0;36mHnswlib.get_nearest_neighbors\u001b[1;34m(self, query, k, ids)\u001b[0m\n\u001b[0;32m    226\u001b[0m \u001b[39mself\u001b[39m\u001b[39m.\u001b[39m_check_dimensionality(query)\n\u001b[0;32m    228\u001b[0m \u001b[39mif\u001b[39;00m k \u001b[39m>\u001b[39m \u001b[39mself\u001b[39m\u001b[39m.\u001b[39m_index_metadata[\u001b[39m\"\u001b[39m\u001b[39melements\u001b[39m\u001b[39m\"\u001b[39m]:\n\u001b[1;32m--> 229\u001b[0m     \u001b[39mraise\u001b[39;00m NotEnoughElementsException(\n\u001b[0;32m    230\u001b[0m         \u001b[39mf\u001b[39m\u001b[39m\"\u001b[39m\u001b[39mNumber of requested results \u001b[39m\u001b[39m{\u001b[39;00mk\u001b[39m}\u001b[39;00m\u001b[39m cannot be greater than number of elements in index \u001b[39m\u001b[39m{\u001b[39;00m\u001b[39mself\u001b[39m\u001b[39m.\u001b[39m_index_metadata[\u001b[39m'\u001b[39m\u001b[39melements\u001b[39m\u001b[39m'\u001b[39m]\u001b[39m}\u001b[39;00m\u001b[39m\"\u001b[39m\n\u001b[0;32m    231\u001b[0m     )\n\u001b[0;32m    233\u001b[0m s2 \u001b[39m=\u001b[39m time\u001b[39m.\u001b[39mtime()\n\u001b[0;32m    234\u001b[0m \u001b[39m# get ids from uuids as a set, if they are available\u001b[39;00m\n",
      "\u001b[1;31mNotEnoughElementsException\u001b[0m: Number of requested results 4 cannot be greater than number of elements in index 1"
     ]
    }
   ],
   "source": [
    "query = f\"Give me a list of validated clinical questionnaires used in this text: {text}\"\n",
    "index.query(query, llm=llm)"
   ]
  },
  {
   "cell_type": "code",
   "execution_count": 10,
   "metadata": {},
   "outputs": [
    {
     "ename": "ValueError",
     "evalue": "Got unknown type W",
     "output_type": "error",
     "traceback": [
      "\u001b[1;31m---------------------------------------------------------------------------\u001b[0m",
      "\u001b[1;31mValueError\u001b[0m                                Traceback (most recent call last)",
      "Cell \u001b[1;32mIn[10], line 2\u001b[0m\n\u001b[0;32m      1\u001b[0m text \u001b[39m=\u001b[39m \u001b[39m\"\u001b[39m\u001b[39mWhat would be a good company name for a company that makes colorful socks? give 5 names\u001b[39m\u001b[39m\"\u001b[39m\n\u001b[1;32m----> 2\u001b[0m \u001b[39mprint\u001b[39m(llm(text))\n",
      "File \u001b[1;32mc:\\Users\\Jakub\\AppData\\Local\\Programs\\Python\\Python39\\lib\\site-packages\\langchain\\chat_models\\base.py:128\u001b[0m, in \u001b[0;36mBaseChatModel.__call__\u001b[1;34m(self, messages, stop)\u001b[0m\n\u001b[0;32m    125\u001b[0m \u001b[39mdef\u001b[39;00m \u001b[39m__call__\u001b[39m(\n\u001b[0;32m    126\u001b[0m     \u001b[39mself\u001b[39m, messages: List[BaseMessage], stop: Optional[List[\u001b[39mstr\u001b[39m]] \u001b[39m=\u001b[39m \u001b[39mNone\u001b[39;00m\n\u001b[0;32m    127\u001b[0m ) \u001b[39m-\u001b[39m\u001b[39m>\u001b[39m BaseMessage:\n\u001b[1;32m--> 128\u001b[0m     \u001b[39mreturn\u001b[39;00m \u001b[39mself\u001b[39;49m\u001b[39m.\u001b[39;49m_generate(messages, stop\u001b[39m=\u001b[39;49mstop)\u001b[39m.\u001b[39mgenerations[\u001b[39m0\u001b[39m]\u001b[39m.\u001b[39mmessage\n",
      "File \u001b[1;32mc:\\Users\\Jakub\\AppData\\Local\\Programs\\Python\\Python39\\lib\\site-packages\\langchain\\chat_models\\openai.py:247\u001b[0m, in \u001b[0;36mChatOpenAI._generate\u001b[1;34m(self, messages, stop)\u001b[0m\n\u001b[0;32m    244\u001b[0m \u001b[39mdef\u001b[39;00m \u001b[39m_generate\u001b[39m(\n\u001b[0;32m    245\u001b[0m     \u001b[39mself\u001b[39m, messages: List[BaseMessage], stop: Optional[List[\u001b[39mstr\u001b[39m]] \u001b[39m=\u001b[39m \u001b[39mNone\u001b[39;00m\n\u001b[0;32m    246\u001b[0m ) \u001b[39m-\u001b[39m\u001b[39m>\u001b[39m ChatResult:\n\u001b[1;32m--> 247\u001b[0m     message_dicts, params \u001b[39m=\u001b[39m \u001b[39mself\u001b[39;49m\u001b[39m.\u001b[39;49m_create_message_dicts(messages, stop)\n\u001b[0;32m    248\u001b[0m     \u001b[39mif\u001b[39;00m \u001b[39mself\u001b[39m\u001b[39m.\u001b[39mstreaming:\n\u001b[0;32m    249\u001b[0m         inner_completion \u001b[39m=\u001b[39m \u001b[39m\"\u001b[39m\u001b[39m\"\u001b[39m\n",
      "File \u001b[1;32mc:\\Users\\Jakub\\AppData\\Local\\Programs\\Python\\Python39\\lib\\site-packages\\langchain\\chat_models\\openai.py:277\u001b[0m, in \u001b[0;36mChatOpenAI._create_message_dicts\u001b[1;34m(self, messages, stop)\u001b[0m\n\u001b[0;32m    275\u001b[0m         \u001b[39mraise\u001b[39;00m \u001b[39mValueError\u001b[39;00m(\u001b[39m\"\u001b[39m\u001b[39m`stop` found in both the input and default params.\u001b[39m\u001b[39m\"\u001b[39m)\n\u001b[0;32m    276\u001b[0m     params[\u001b[39m\"\u001b[39m\u001b[39mstop\u001b[39m\u001b[39m\"\u001b[39m] \u001b[39m=\u001b[39m stop\n\u001b[1;32m--> 277\u001b[0m message_dicts \u001b[39m=\u001b[39m [_convert_message_to_dict(m) \u001b[39mfor\u001b[39;00m m \u001b[39min\u001b[39;00m messages]\n\u001b[0;32m    278\u001b[0m \u001b[39mreturn\u001b[39;00m message_dicts, params\n",
      "File \u001b[1;32mc:\\Users\\Jakub\\AppData\\Local\\Programs\\Python\\Python39\\lib\\site-packages\\langchain\\chat_models\\openai.py:277\u001b[0m, in \u001b[0;36m<listcomp>\u001b[1;34m(.0)\u001b[0m\n\u001b[0;32m    275\u001b[0m         \u001b[39mraise\u001b[39;00m \u001b[39mValueError\u001b[39;00m(\u001b[39m\"\u001b[39m\u001b[39m`stop` found in both the input and default params.\u001b[39m\u001b[39m\"\u001b[39m)\n\u001b[0;32m    276\u001b[0m     params[\u001b[39m\"\u001b[39m\u001b[39mstop\u001b[39m\u001b[39m\"\u001b[39m] \u001b[39m=\u001b[39m stop\n\u001b[1;32m--> 277\u001b[0m message_dicts \u001b[39m=\u001b[39m [_convert_message_to_dict(m) \u001b[39mfor\u001b[39;00m m \u001b[39min\u001b[39;00m messages]\n\u001b[0;32m    278\u001b[0m \u001b[39mreturn\u001b[39;00m message_dicts, params\n",
      "File \u001b[1;32mc:\\Users\\Jakub\\AppData\\Local\\Programs\\Python\\Python39\\lib\\site-packages\\langchain\\chat_models\\openai.py:88\u001b[0m, in \u001b[0;36m_convert_message_to_dict\u001b[1;34m(message)\u001b[0m\n\u001b[0;32m     86\u001b[0m     message_dict \u001b[39m=\u001b[39m {\u001b[39m\"\u001b[39m\u001b[39mrole\u001b[39m\u001b[39m\"\u001b[39m: \u001b[39m\"\u001b[39m\u001b[39msystem\u001b[39m\u001b[39m\"\u001b[39m, \u001b[39m\"\u001b[39m\u001b[39mcontent\u001b[39m\u001b[39m\"\u001b[39m: message\u001b[39m.\u001b[39mcontent}\n\u001b[0;32m     87\u001b[0m \u001b[39melse\u001b[39;00m:\n\u001b[1;32m---> 88\u001b[0m     \u001b[39mraise\u001b[39;00m \u001b[39mValueError\u001b[39;00m(\u001b[39mf\u001b[39m\u001b[39m\"\u001b[39m\u001b[39mGot unknown type \u001b[39m\u001b[39m{\u001b[39;00mmessage\u001b[39m}\u001b[39;00m\u001b[39m\"\u001b[39m)\n\u001b[0;32m     89\u001b[0m \u001b[39mif\u001b[39;00m \u001b[39m\"\u001b[39m\u001b[39mname\u001b[39m\u001b[39m\"\u001b[39m \u001b[39min\u001b[39;00m message\u001b[39m.\u001b[39madditional_kwargs:\n\u001b[0;32m     90\u001b[0m     message_dict[\u001b[39m\"\u001b[39m\u001b[39mname\u001b[39m\u001b[39m\"\u001b[39m] \u001b[39m=\u001b[39m message\u001b[39m.\u001b[39madditional_kwargs[\u001b[39m\"\u001b[39m\u001b[39mname\u001b[39m\u001b[39m\"\u001b[39m]\n",
      "\u001b[1;31mValueError\u001b[0m: Got unknown type W"
     ]
    }
   ],
   "source": [
    "text = \"What would be a good company name for a company that makes colorful socks? give 5 names\"\n",
    "print(llm(text))"
   ]
  }
 ],
 "metadata": {
  "kernelspec": {
   "display_name": "Python 3",
   "language": "python",
   "name": "python3"
  },
  "language_info": {
   "codemirror_mode": {
    "name": "ipython",
    "version": 3
   },
   "file_extension": ".py",
   "mimetype": "text/x-python",
   "name": "python",
   "nbconvert_exporter": "python",
   "pygments_lexer": "ipython3",
   "version": "3.9.1"
  },
  "orig_nbformat": 4
 },
 "nbformat": 4,
 "nbformat_minor": 2
}
