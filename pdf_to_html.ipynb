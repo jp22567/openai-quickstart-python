{
 "cells": [
  {
   "cell_type": "code",
   "execution_count": 2,
   "metadata": {},
   "outputs": [
    {
     "ename": "RuntimeError",
     "evalue": "Proxy error(FileNotFoundException): Could not find file 'c:\\Users\\Jakub\\Documents\\zazu\\clinical_trial_rank_0001.pdf'.",
     "output_type": "error",
     "traceback": [
      "\u001b[1;31m---------------------------------------------------------------------------\u001b[0m",
      "\u001b[1;31mRuntimeError\u001b[0m                              Traceback (most recent call last)",
      "Cell \u001b[1;32mIn[2], line 3\u001b[0m\n\u001b[0;32m      1\u001b[0m \u001b[39mimport\u001b[39;00m \u001b[39maspose\u001b[39;00m\u001b[39m.\u001b[39;00m\u001b[39mwords\u001b[39;00m \u001b[39mas\u001b[39;00m \u001b[39maw\u001b[39;00m\n\u001b[1;32m----> 3\u001b[0m doc \u001b[39m=\u001b[39m aw\u001b[39m.\u001b[39;49mDocument(\u001b[39m\"\u001b[39;49m\u001b[39mclinical_trial_rank_0001.pdf\u001b[39;49m\u001b[39m\"\u001b[39;49m)\n\u001b[0;32m      4\u001b[0m doc\u001b[39m.\u001b[39msave(\u001b[39m\"\u001b[39m\u001b[39mOutput.html\u001b[39m\u001b[39m\"\u001b[39m)\n",
      "\u001b[1;31mRuntimeError\u001b[0m: Proxy error(FileNotFoundException): Could not find file 'c:\\Users\\Jakub\\Documents\\zazu\\clinical_trial_rank_0001.pdf'."
     ]
    }
   ],
   "source": [
    "import aspose.words as aw\n",
    "\n",
    "doc = aw.Document(\"clinical_trial_rank_0001.pdf\")\n",
    "doc.save(\"Output.html\")"
   ]
  }
 ],
 "metadata": {
  "kernelspec": {
   "display_name": "Python 3",
   "language": "python",
   "name": "python3"
  },
  "language_info": {
   "codemirror_mode": {
    "name": "ipython",
    "version": 3
   },
   "file_extension": ".py",
   "mimetype": "text/x-python",
   "name": "python",
   "nbconvert_exporter": "python",
   "pygments_lexer": "ipython3",
   "version": "3.9.1"
  },
  "orig_nbformat": 4,
  "vscode": {
   "interpreter": {
    "hash": "12d4f619691cb3c8cdb4fc1bac3542d3bd06428ac0d8596b7ce847b27c5c0d5e"
   }
  }
 },
 "nbformat": 4,
 "nbformat_minor": 2
}
