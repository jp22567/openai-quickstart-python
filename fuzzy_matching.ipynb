{
 "cells": [
  {
   "cell_type": "code",
   "execution_count": 2,
   "metadata": {},
   "outputs": [],
   "source": [
    "import rapidfuzz\n",
    "from rapidfuzz.process import extract, extract_iter , extractOne\n",
    "import fuzzywuzzy\n",
    "import pandas as pd"
   ]
  },
  {
   "attachments": {},
   "cell_type": "markdown",
   "metadata": {},
   "source": [
    "## Testing"
   ]
  },
  {
   "cell_type": "code",
   "execution_count": 1,
   "metadata": {},
   "outputs": [
    {
     "ename": "NameError",
     "evalue": "name 'rapidfuzz' is not defined",
     "output_type": "error",
     "traceback": [
      "\u001b[1;31m---------------------------------------------------------------------------\u001b[0m",
      "\u001b[1;31mNameError\u001b[0m                                 Traceback (most recent call last)",
      "Cell \u001b[1;32mIn[1], line 1\u001b[0m\n\u001b[1;32m----> 1\u001b[0m rapidfuzz\u001b[39m.\u001b[39mdistance\u001b[39m.\u001b[39mOSA\u001b[39m.\u001b[39mnormalized_similarity(\u001b[39m\"\u001b[39m\u001b[39mmsqol 54  multiple sclerosis quality of life 54\u001b[39m\u001b[39m\"\u001b[39m,\u001b[39m\"\u001b[39m\u001b[39mmsqol 54  multiple sclerosis quality of life 54 instrument\u001b[39m\u001b[39m\"\u001b[39m, processor\u001b[39m=\u001b[39mrapidfuzz\u001b[39m.\u001b[39mutils\u001b[39m.\u001b[39mdefault_process)\n",
      "\u001b[1;31mNameError\u001b[0m: name 'rapidfuzz' is not defined"
     ]
    }
   ],
   "source": [
    "rapidfuzz.distance.OSA.normalized_similarity(\"msqol 54  multiple sclerosis quality of life 54\",\"msqol 54  multiple sclerosis quality of life 54 instrument\", processor=rapidfuzz.utils.default_process)"
   ]
  },
  {
   "cell_type": "code",
   "execution_count": 24,
   "metadata": {},
   "outputs": [
    {
     "data": {
      "text/plain": [
       "0.8103448275862069"
      ]
     },
     "execution_count": 24,
     "metadata": {},
     "output_type": "execute_result"
    }
   ],
   "source": [
    "rapidfuzz.distance.Levenshtein.normalized_similarity(\"msqol 54  multiple sclerosis quality of life 54\",\"msqol 54  multiple sclerosis quality of life 54 instrument\", processor=rapidfuzz.utils.default_process)"
   ]
  },
  {
   "cell_type": "code",
   "execution_count": 31,
   "metadata": {},
   "outputs": [
    {
     "data": {
      "text/plain": [
       "100.0"
      ]
     },
     "execution_count": 31,
     "metadata": {},
     "output_type": "execute_result"
    }
   ],
   "source": [
    "rapidfuzz.fuzz.partial_ratio(\"msqol 54  multiple sclerosis quality of life 54\",\"msqol 54  multiple sclerosis quality of life 54 instrument\", processor=rapidfuzz.utils.default_process)"
   ]
  },
  {
   "cell_type": "code",
   "execution_count": 74,
   "metadata": {},
   "outputs": [
    {
     "data": {
      "text/plain": [
       "0.5555555555555556"
      ]
     },
     "execution_count": 74,
     "metadata": {},
     "output_type": "execute_result"
    }
   ],
   "source": [
    "rapidfuzz.distance.Levenshtein.normalized_similarity(\"(EQ-5D)\",\"EQ-5D\", weights=(1,2,1))"
   ]
  },
  {
   "cell_type": "code",
   "execution_count": 2,
   "metadata": {},
   "outputs": [],
   "source": [
    "mapi = pd.read_csv(\"mapi_list_sn_ln.csv\")"
   ]
  },
  {
   "cell_type": "code",
   "execution_count": 76,
   "metadata": {},
   "outputs": [
    {
     "data": {
      "text/plain": [
       "'nemoqcâ'"
      ]
     },
     "execution_count": 76,
     "metadata": {},
     "output_type": "execute_result"
    }
   ],
   "source": [
    "rapidfuzz.utils.default_process(\"NEMOQCÂ©\")"
   ]
  },
  {
   "cell_type": "code",
   "execution_count": null,
   "metadata": {},
   "outputs": [],
   "source": [
    "rapidfuzz.distance.Levenshtein.normalized_similarity rapidfuzz.fuzz.partial_token_sort_ratio"
   ]
  },
  {
   "cell_type": "code",
   "execution_count": 3,
   "metadata": {},
   "outputs": [],
   "source": [
    "extracts = []\n",
    "for x in extract_iter(\"fact-\", mapi.short_name, processor=rapidfuzz.utils.default_process, score_cutoff=.8, scorer=rapidfuzz.distance.Levenshtein.normalized_similarity):\n",
    "    extracts.append(x)\n"
   ]
  },
  {
   "cell_type": "code",
   "execution_count": 4,
   "metadata": {},
   "outputs": [
    {
     "data": {
      "text/plain": [
       "[('FACIT', 0.8, 23), ('FAACT', 0.8, 532)]"
      ]
     },
     "execution_count": 4,
     "metadata": {},
     "output_type": "execute_result"
    }
   ],
   "source": [
    "extracts"
   ]
  },
  {
   "cell_type": "code",
   "execution_count": 56,
   "metadata": {},
   "outputs": [
    {
     "name": "stdout",
     "output_type": "stream",
     "text": [
      "y\n"
     ]
    }
   ],
   "source": [
    "y = (\"x\", \"y\")\n",
    "print(y[1])"
   ]
  },
  {
   "cell_type": "code",
   "execution_count": 54,
   "metadata": {},
   "outputs": [],
   "source": [
    "def key(mytup):\n",
    "    return mytup[1]"
   ]
  },
  {
   "cell_type": "code",
   "execution_count": 68,
   "metadata": {},
   "outputs": [
    {
     "data": {
      "text/plain": [
       "[('FACIT', 0.8, 23), ('FAACT', 0.8, 532)]"
      ]
     },
     "execution_count": 68,
     "metadata": {},
     "output_type": "execute_result"
    }
   ],
   "source": [
    "sorted(extracts, key=key, reverse=True)"
   ]
  },
  {
   "attachments": {},
   "cell_type": "markdown",
   "metadata": {},
   "source": [
    "## Work"
   ]
  },
  {
   "cell_type": "code",
   "execution_count": 11,
   "metadata": {},
   "outputs": [],
   "source": [
    "mapi = pd.read_csv(\"mapi_list_sn_ln.csv\")\n",
    "mapi.drop(3752, axis=0, inplace=True)"
   ]
  },
  {
   "cell_type": "code",
   "execution_count": 12,
   "metadata": {},
   "outputs": [
    {
     "data": {
      "text/plain": [
       "short_name                                  MLDT\n",
       "long_name     MacNeill-Lichtenberg Decision Tree\n",
       "Name: 3753, dtype: object"
      ]
     },
     "execution_count": 12,
     "metadata": {},
     "output_type": "execute_result"
    }
   ],
   "source": [
    "mapi.iloc[3752]"
   ]
  },
  {
   "cell_type": "code",
   "execution_count": 14,
   "metadata": {},
   "outputs": [],
   "source": [
    "answers = ['- NHMRC National Statement on Ethical Conduct in Human Research (2007 updated 2018)',\n",
    " '- Australian Code for the Responsible Conduct of Research, 2018 (the Code)',\n",
    " '- Note for Guidance on Good Clinical Practice (CPMP/ICH-135/95)',\n",
    " '- MSQOL-54, validated tool designed to measure HRQOL in people with MS',\n",
    " \"['PROTOCOL', 'An Online Educational Course for People with MS: A randomised', 'controlled trial of course effectiveness', 'Protocol Number: #1', 'Version: #3', 'Date: 13/12/2021', 'Author/s:', 'Dr Sandra Neate', 'Dr Jeanette Reece', 'Mr Will Bevens', 'Ms Maggie Yu', 'Dr Steve Simpson-Yap', 'Sponsor/s:', 'None', 'CONFIDENTIAL', 'This document is confidential and the property of The University of Melbourne. No part of it may', 'be transmitted, reproduced, published, or used without prior written authorization from the', 'institution.', 'Statement of Compliance', 'This study will be conducted in compliance with all stipulation of this protocol, the conditions of', 'the ethics committee approval, the NHMRC National Statement on ethical Conduct in Human', 'Research (2007 updated 2018). Australian Code for the Responsible Conduct of', 'Research, 2018 (the Code) and the principles of the Note for Guidance on Good Clinical', 'Practice (CPMP/ICH-135/95).']\",\n",
    " '- MSQOL-54, Multiple Sclerosis Quality of Life-54 instrument ',\n",
    " '- IPAQ-SF, International Physical Activity Questionnaire - Short Form',\n",
    " '- FSS, Fatigue Severity Scale ',\n",
    " '- MAQ, Mindfulness Adherence Questionnaire ',\n",
    " '- PDDS, Patient-Determined Disease Steps ',\n",
    " '- PHC, Physical Health Composite',\n",
    " '- MHC, Mental Health Composite',\n",
    " '- MSPSS, Multidimensional Scale of Perceived Social Support ',\n",
    " '- UWSE, University of Washington Self-Efficacy',\n",
    " '- Diet Habits Questionnaire',\n",
    " '- NEU Multiple Sclerosis Online Course (MSOC) ',\n",
    " '- Dermatology Life Quality Index (DLQI)',\n",
    " '- European Quality of Life 5-Dimension Questionnaire (EQ-5D)',\n",
    " '- IPAQ-SF, The International Physical Activity Questionnaire - Short Form',\n",
    " '- DHQ, Diet Habits Questionnaire',\n",
    " 'Study Name: An Online Educational Course for People with MS: A randomised controlled trial of course effectiveness',\n",
    " 'Protocol Number: 1',\n",
    " 'Version & date: Version 3, dated 13 December 2021',\n",
    " '- SCQ, Self-administered Comorbidity Questionnaire',\n",
    " '- MSPSS, Multidimensional Scale of Perceived Social Support',\n",
    " '- MSQOL-54, Multiple Sclerosis Quality of Life-54',\n",
    " '- FSS, Fatigue Severity Scale',\n",
    " '- HADS, Hospital Anxiety and Depression Scale',\n",
    " '- PDDS, Patient-Determined Disease Steps',\n",
    " '- UWSE survey, University of Washington Self-Efficacy survey',\n",
    " '- MSQOL-54, Multiple Sclerosis Quality of Life 54',\n",
    " '- EQ-5D, European Quality of Life 5-Dimension Questionnaire',\n",
    " '- DLQI, Dermatology Life Quality Index',\n",
    " 'There are no validated clinical questionnaires mentioned in the text. The text describes a randomized controlled trial of an online educational course for people with MS, which includes an integrated lifestyle modification program with seven modules. The study will use qualitative interviewing to assess the effectiveness of the course. The text does not mention any specific questionnaires used in the trial.',\n",
    " '- IPAQ-SF, International Physical Activity Questionnaire Short Form',\n",
    " '- MAQ, Meditation Assessment Questionnaire',\n",
    " '- DHQ, Diet History Questionnaire',\n",
    " '- MSQOL-54, Health-related quality of life: MS Quality of Life 54 questionnaire',\n",
    " '- PDDS, Patient-determined disease steps',\n",
    " '- UWSE-6, Generalized Self-Efficacy Scale',\n",
    " '- No other validated clinical questionnaires were found in the text.',\n",
    " '- MSQOL-54, Multiple Sclerosis Quality of Life 54-item survey',\n",
    " '- UWSE, University of Washington Self-Efficacy Scale',\n",
    " 'There are no validated clinical questionnaires mentioned in this text.',\n",
    " '- DHQ, Dietary Habits Questionnaire',\n",
    " '- HADS, Hospital Anxiety and Depression',\n",
    " '- UWSE-6, University of Washington Self-Efficacy Scale',\n",
    " '- MSQOL54.pdt, Multiple Sclerosis Quality of Life-54',\n",
    " '- FSS, Fatigue Severity Scale Questionnaire',\n",
    " '- Neuro-QoL, Quality of Life in Neurological Disorders',\n",
    " '- IPAQ, International Physical Activity Questionnaire',\n",
    " '- PARADISE-24, Psychological And Reactivation and Distress In MS - 24 questionnaire',\n",
    " '- FCBP, Females of childbearing potential',\n",
    " '- FDA, Food and Drug Administration',\n",
    " '- Fatigue Severity Scale',\n",
    " '- Mindfulness Adherence Questionnaire',\n",
    " '- NARCOMS registry: fatigue assessment',\n",
    " '- MS Invigor8',\n",
    " '- Self-Administered Comorbidity Questionnaire',\n",
    " '- Stress Management for MS',\n",
    " '- Mindfulness-Based Stress Reduction',\n",
    " '- Vitamin D Supplements Use',\n",
    " '- Behavioral Nutrition Interventions',\n",
    " '- Body Mass Index',\n",
    " '- Interpreting the significance of changes in health-related quality-of-life scores',\n",
    " '- Impact of mindful-based stress reduction for people with multiple sclerosis',\n",
    " '- Higher quality diet and non-consumption of meat',\n",
    " '- Australian standard classification of cultural and ethnic groups',\n",
    " '- Self-administered comorbidity questionnaire',\n",
    " '- The perceived benefits and barriers to exercise participation',\n",
    " '- Health-related quality of life and symptom research in glioblastoma multiforme patients',\n",
    " '- Lifestyle factors, demographics and medications associated with depression risk in an international sample of people with multiple sclerosis',\n",
    " '- Stress management interventions for multiple sclerosis']"
   ]
  },
  {
   "attachments": {},
   "cell_type": "markdown",
   "metadata": {},
   "source": [
    "find short name"
   ]
  },
  {
   "cell_type": "code",
   "execution_count": 21,
   "metadata": {},
   "outputs": [],
   "source": [
    "def short_name_finder(string):\n",
    "    matches = []\n",
    "    tokens = string.split()\n",
    "    for token in tokens:\n",
    "        similarity = []\n",
    "        processor = rapidfuzz.utils.default_process\n",
    "        score_cutoff = 1\n",
    "        leven_scorer = rapidfuzz.distance.Levenshtein.normalized_similarity\n",
    "        for x in extract_iter(token, mapi.short_name, processor=processor, score_cutoff=score_cutoff, scorer=leven_scorer):\n",
    "            matches.append((token,x[0]))\n",
    "        # similarity = rapidfuzz.distance.Levenshtein.normalized_similarity(token,)\n",
    "        # ratio = rapidfuzz.fuzz.partial_ratio()\n",
    "\n",
    "    matches = list(filter(None, matches))\n",
    "    matches = list(dict.fromkeys(matches))\n",
    "    return matches"
   ]
  },
  {
   "cell_type": "code",
   "execution_count": 19,
   "metadata": {},
   "outputs": [],
   "source": [
    "short_names = []\n",
    "for answer in answers:\n",
    "    short_names.append(short_name_finder(answer))\n",
    "short_names = list(filter(None, short_names))"
   ]
  },
  {
   "cell_type": "code",
   "execution_count": 20,
   "metadata": {},
   "outputs": [
    {
     "data": {
      "text/plain": [
       "[[('MSQOL-54,', 'MSQOL-54'), ('HRQOL', 'HRQoL')],\n",
       " [('MSQOL-54,', 'MSQOL-54')],\n",
       " [('IPAQ-SF,', 'IPAQ-SF')],\n",
       " [('FSS,', 'FSS')],\n",
       " [('PDDS,', 'PDDS')],\n",
       " [('MHC,', 'MHC')],\n",
       " [('MSPSS,', 'MSPSS')],\n",
       " [('(DLQI)', 'DLQI')],\n",
       " [('IPAQ-SF,', 'IPAQ-SF')],\n",
       " [('DHQ,', 'DHQ')],\n",
       " [('SCQ,', 'SCQ')],\n",
       " [('MSPSS,', 'MSPSS')],\n",
       " [('MSQOL-54,', 'MSQOL-54')],\n",
       " [('FSS,', 'FSS')],\n",
       " [('HADS,', 'HADS')],\n",
       " [('PDDS,', 'PDDS')],\n",
       " [('MSQOL-54,', 'MSQOL-54')],\n",
       " [('DLQI,', 'DLQI')],\n",
       " [('IPAQ-SF,', 'IPAQ-SF')],\n",
       " [('DHQ,', 'DHQ')],\n",
       " [('MSQOL-54,', 'MSQOL-54')],\n",
       " [('PDDS,', 'PDDS')],\n",
       " [('MSQOL-54,', 'MSQOL-54')],\n",
       " [('DHQ,', 'DHQ')],\n",
       " [('HADS,', 'HADS')],\n",
       " [('FSS,', 'FSS')],\n",
       " [('Neuro-QoL,', 'Neuro-QOL')],\n",
       " [('IPAQ,', 'IPAQ')]]"
      ]
     },
     "execution_count": 20,
     "metadata": {},
     "output_type": "execute_result"
    }
   ],
   "source": [
    "short_names"
   ]
  },
  {
   "cell_type": "code",
   "execution_count": 10,
   "metadata": {},
   "outputs": [
    {
     "name": "stdout",
     "output_type": "stream",
     "text": [
      "[('MSQOL-54', 1.0, 1241)]\n"
     ]
    }
   ],
   "source": [
    "print(short_name_finder('- MSQOL-54, Multiple Sclerosis Quality of Life-54 instrument '))"
   ]
  },
  {
   "attachments": {},
   "cell_type": "markdown",
   "metadata": {},
   "source": [
    "compare everything"
   ]
  },
  {
   "cell_type": "code",
   "execution_count": 30,
   "metadata": {},
   "outputs": [
    {
     "data": {
      "text/plain": [
       "'- NHMRC National Statement on Ethical Conduct in Human Research (2007 updated 2018)'"
      ]
     },
     "execution_count": 30,
     "metadata": {},
     "output_type": "execute_result"
    }
   ],
   "source": []
  }
 ],
 "metadata": {
  "kernelspec": {
   "display_name": "Python 3",
   "language": "python",
   "name": "python3"
  },
  "language_info": {
   "codemirror_mode": {
    "name": "ipython",
    "version": 3
   },
   "file_extension": ".py",
   "mimetype": "text/x-python",
   "name": "python",
   "nbconvert_exporter": "python",
   "pygments_lexer": "ipython3",
   "version": "3.9.1"
  },
  "orig_nbformat": 4,
  "vscode": {
   "interpreter": {
    "hash": "12d4f619691cb3c8cdb4fc1bac3542d3bd06428ac0d8596b7ce847b27c5c0d5e"
   }
  }
 },
 "nbformat": 4,
 "nbformat_minor": 2
}
