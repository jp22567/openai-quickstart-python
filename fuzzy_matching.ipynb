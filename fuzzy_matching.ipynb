{
 "cells": [
  {
   "cell_type": "code",
   "execution_count": 1,
   "metadata": {},
   "outputs": [],
   "source": [
    "import rapidfuzz\n",
    "from rapidfuzz.process import extract, extract_iter , extractOne\n",
    "import fuzzywuzzy\n",
    "import pandas as pd\n",
    "import itertools\n",
    "import json"
   ]
  },
  {
   "attachments": {},
   "cell_type": "markdown",
   "metadata": {},
   "source": [
    "## Testing"
   ]
  },
  {
   "cell_type": "code",
   "execution_count": 2,
   "metadata": {},
   "outputs": [
    {
     "data": {
      "text/plain": [
       "0.8103448275862069"
      ]
     },
     "execution_count": 2,
     "metadata": {},
     "output_type": "execute_result"
    }
   ],
   "source": [
    "rapidfuzz.distance.OSA.normalized_similarity(\"msqol 54  multiple sclerosis quality of life 54\",\"msqol 54  multiple sclerosis quality of life 54 instrument\", processor=rapidfuzz.utils.default_process)"
   ]
  },
  {
   "cell_type": "code",
   "execution_count": 3,
   "metadata": {},
   "outputs": [
    {
     "data": {
      "text/plain": [
       "0.8103448275862069"
      ]
     },
     "execution_count": 3,
     "metadata": {},
     "output_type": "execute_result"
    }
   ],
   "source": [
    "rapidfuzz.distance.Levenshtein.normalized_similarity(\"msqol 54  multiple sclerosis quality of life 54\",\"msqol 54  multiple sclerosis quality of life 54 instrument\", processor=rapidfuzz.utils.default_process)"
   ]
  },
  {
   "cell_type": "code",
   "execution_count": 4,
   "metadata": {},
   "outputs": [
    {
     "data": {
      "text/plain": [
       "100.0"
      ]
     },
     "execution_count": 4,
     "metadata": {},
     "output_type": "execute_result"
    }
   ],
   "source": [
    "rapidfuzz.fuzz.partial_ratio(\"msqol 54  multiple sclerosis quality of life 54\",\"msqol 54  multiple sclerosis quality of life 54 instrument\", processor=rapidfuzz.utils.default_process)"
   ]
  },
  {
   "cell_type": "code",
   "execution_count": 5,
   "metadata": {},
   "outputs": [
    {
     "data": {
      "text/plain": [
       "0.7142857142857143"
      ]
     },
     "execution_count": 5,
     "metadata": {},
     "output_type": "execute_result"
    }
   ],
   "source": [
    "rapidfuzz.distance.Levenshtein.normalized_similarity(\"(EQ-5D)\",\"EQ-5D\", weights=(1,1,1))"
   ]
  },
  {
   "cell_type": "code",
   "execution_count": 6,
   "metadata": {},
   "outputs": [],
   "source": [
    "mapi = pd.read_csv(\"mapi_list_sn_ln.csv\")"
   ]
  },
  {
   "cell_type": "code",
   "execution_count": 7,
   "metadata": {},
   "outputs": [
    {
     "data": {
      "text/plain": [
       "'nemoqcâ'"
      ]
     },
     "execution_count": 7,
     "metadata": {},
     "output_type": "execute_result"
    }
   ],
   "source": [
    "rapidfuzz.utils.default_process(\"NEMOQCÂ©\")"
   ]
  },
  {
   "cell_type": "code",
   "execution_count": 8,
   "metadata": {},
   "outputs": [],
   "source": [
    "extracts = []\n",
    "for x in extract_iter(\"fact-\", mapi.short_name, processor=rapidfuzz.utils.default_process, score_cutoff=.8, scorer=rapidfuzz.distance.Levenshtein.normalized_similarity):\n",
    "    extracts.append(x)\n"
   ]
  },
  {
   "cell_type": "code",
   "execution_count": 9,
   "metadata": {},
   "outputs": [
    {
     "data": {
      "text/plain": [
       "[('FACIT', 0.8, 23), ('FAACT', 0.8, 532)]"
      ]
     },
     "execution_count": 9,
     "metadata": {},
     "output_type": "execute_result"
    }
   ],
   "source": [
    "extracts"
   ]
  },
  {
   "cell_type": "code",
   "execution_count": 10,
   "metadata": {},
   "outputs": [
    {
     "name": "stdout",
     "output_type": "stream",
     "text": [
      "y\n"
     ]
    }
   ],
   "source": [
    "y = (\"x\", \"y\")\n",
    "print(y[1])"
   ]
  },
  {
   "cell_type": "code",
   "execution_count": 11,
   "metadata": {},
   "outputs": [],
   "source": [
    "def key(mytup):\n",
    "    return mytup[1]"
   ]
  },
  {
   "cell_type": "code",
   "execution_count": 12,
   "metadata": {},
   "outputs": [
    {
     "data": {
      "text/plain": [
       "[('FACIT', 0.8, 23), ('FAACT', 0.8, 532)]"
      ]
     },
     "execution_count": 12,
     "metadata": {},
     "output_type": "execute_result"
    }
   ],
   "source": [
    "sorted(extracts, key=key, reverse=True)"
   ]
  },
  {
   "cell_type": "code",
   "execution_count": 13,
   "metadata": {},
   "outputs": [],
   "source": [
    "s1 = rapidfuzz.utils.default_process('- MSQOL-54, Multiple Sclerosis Quality of Life-54 instrument ')\n",
    "s2 = rapidfuzz.utils.default_process(\"Multiple Sclerosis Quality of Life-54\")"
   ]
  },
  {
   "cell_type": "code",
   "execution_count": 14,
   "metadata": {},
   "outputs": [
    {
     "data": {
      "text/plain": [
       "0.6379310344827587"
      ]
     },
     "execution_count": 14,
     "metadata": {},
     "output_type": "execute_result"
    }
   ],
   "source": [
    "rapidfuzz.distance.Levenshtein.normalized_similarity(s1, s2)"
   ]
  },
  {
   "cell_type": "code",
   "execution_count": 15,
   "metadata": {},
   "outputs": [
    {
     "data": {
      "text/plain": [
       "100.0"
      ]
     },
     "execution_count": 15,
     "metadata": {},
     "output_type": "execute_result"
    }
   ],
   "source": [
    "rapidfuzz.fuzz.partial_token_ratio(s2, s1)"
   ]
  },
  {
   "cell_type": "code",
   "execution_count": 16,
   "metadata": {},
   "outputs": [
    {
     "data": {
      "text/plain": [
       "100.0"
      ]
     },
     "execution_count": 16,
     "metadata": {},
     "output_type": "execute_result"
    }
   ],
   "source": [
    "rapidfuzz.fuzz.token_ratio(s2, s1)"
   ]
  },
  {
   "cell_type": "code",
   "execution_count": 17,
   "metadata": {},
   "outputs": [
    {
     "data": {
      "text/plain": [
       "100.0"
      ]
     },
     "execution_count": 17,
     "metadata": {},
     "output_type": "execute_result"
    }
   ],
   "source": [
    "rapidfuzz.fuzz.token_set_ratio(s1, s2)"
   ]
  },
  {
   "cell_type": "code",
   "execution_count": 18,
   "metadata": {},
   "outputs": [
    {
     "data": {
      "text/plain": [
       "78.72340425531915"
      ]
     },
     "execution_count": 18,
     "metadata": {},
     "output_type": "execute_result"
    }
   ],
   "source": [
    "rapidfuzz.fuzz.token_sort_ratio(s2, s1)"
   ]
  },
  {
   "cell_type": "code",
   "execution_count": 19,
   "metadata": {},
   "outputs": [],
   "source": [
    "s = '- Fullerton Advanced Balance Scale\\n- Falls Efficacy Scale\\n- SF-36\\n- Geriatric Depression Scale\\n- Geriatric Anxiety Scale\\n- Apathy Evaluation Scale\\n- Expanded Short Physical Performance Battery\\n- Zarit Caregiver Burden Scale\\n- Neuropsychiatric Inventory Questionnaire\\n- Alternative Uses Task\\n- Postural Sway\\n- Gait Speed and Variability\\n- Timed Up and Go\\n- Philadelphia Mindfulness Scale\\n- Abbreviated Cognitive Battery\\n- Multisensory Reaction Time\\n- MRI scan of brain (not a questionnaire)\\n- IMOVE Protocol, Version 6.0 (not a questionnaire)'"
   ]
  },
  {
   "cell_type": "code",
   "execution_count": 20,
   "metadata": {},
   "outputs": [
    {
     "data": {
      "text/plain": [
       "['- Fullerton Advanced Balance Scale',\n",
       " '- Falls Efficacy Scale',\n",
       " '- SF-36',\n",
       " '- Geriatric Depression Scale',\n",
       " '- Geriatric Anxiety Scale',\n",
       " '- Apathy Evaluation Scale',\n",
       " '- Expanded Short Physical Performance Battery',\n",
       " '- Zarit Caregiver Burden Scale',\n",
       " '- Neuropsychiatric Inventory Questionnaire',\n",
       " '- Alternative Uses Task',\n",
       " '- Postural Sway',\n",
       " '- Gait Speed and Variability',\n",
       " '- Timed Up and Go',\n",
       " '- Philadelphia Mindfulness Scale',\n",
       " '- Abbreviated Cognitive Battery',\n",
       " '- Multisensory Reaction Time',\n",
       " '- MRI scan of brain (not a questionnaire)',\n",
       " '- IMOVE Protocol, Version 6.0 (not a questionnaire)']"
      ]
     },
     "execution_count": 20,
     "metadata": {},
     "output_type": "execute_result"
    }
   ],
   "source": [
    "s.split(\"\\n\")"
   ]
  },
  {
   "attachments": {},
   "cell_type": "markdown",
   "metadata": {},
   "source": [
    "## Work"
   ]
  },
  {
   "cell_type": "code",
   "execution_count": 21,
   "metadata": {},
   "outputs": [],
   "source": [
    "mapi = pd.read_csv(\"mapi_list_sn_ln.csv\")\n",
    "# mapi.drop(3752, axis=0, inplace=True)\n",
    "mapi.iloc[3752][0] = \"\"\n",
    "# mapi.reset_index()\n",
    "# mapi = mapi.astype(str)"
   ]
  },
  {
   "attachments": {},
   "cell_type": "markdown",
   "metadata": {},
   "source": [
    "mapi list how?"
   ]
  },
  {
   "cell_type": "code",
   "execution_count": 22,
   "metadata": {},
   "outputs": [],
   "source": [
    "dots = []\n",
    "for name in mapi.long_name:\n",
    "    if \"...\" in name:\n",
    "        dots.append(name)"
   ]
  },
  {
   "cell_type": "code",
   "execution_count": 23,
   "metadata": {},
   "outputs": [
    {
     "data": {
      "text/plain": [
       "815"
      ]
     },
     "execution_count": 23,
     "metadata": {},
     "output_type": "execute_result"
    }
   ],
   "source": [
    "len(dots)"
   ]
  },
  {
   "cell_type": "code",
   "execution_count": 24,
   "metadata": {},
   "outputs": [],
   "source": [
    "# def weighted_iter_long(string, long=True):\n",
    "#     matches = []\n",
    "#     choices = mapi.long_name\n",
    "#     if long == False:\n",
    "#         choices = mapi.short_name\n",
    "#     cut_off = 0.8\n",
    "\n",
    "#     for choice in choices:\n",
    "#         score = rapidfuzz.distance.Levenshtein.normalized_similarity(string, choice, processor=rapidfuzz.utils.default_process, weights=(1,0.999999,1))\n",
    "#         if score >= cut_off and \"...\" not in choice:\n",
    "#             matches.append((choice, score))\n",
    "        \n",
    "#     matches = sorted(matches, key=key, reverse=True)\n",
    "    \n",
    "#     return matches"
   ]
  },
  {
   "cell_type": "code",
   "execution_count": 25,
   "metadata": {},
   "outputs": [],
   "source": [
    "# # 131\n",
    "# answers = ['- NHMRC National Statement on Ethical Conduct in Human Research (2007 updated 2018)',\n",
    "#  '- Australian Code for the Responsible Conduct of Research, 2018 (the Code)',\n",
    "#  '- Note for Guidance on Good Clinical Practice (CPMP/ICH-135/95)',\n",
    "#  '- MSQOL-54, validated tool designed to measure HRQOL in people with MS',\n",
    "#  \"['PROTOCOL', 'An Online Educational Course for People with MS: A randomised', 'controlled trial of course effectiveness', 'Protocol Number: #1', 'Version: #3', 'Date: 13/12/2021', 'Author/s:', 'Dr Sandra Neate', 'Dr Jeanette Reece', 'Mr Will Bevens', 'Ms Maggie Yu', 'Dr Steve Simpson-Yap', 'Sponsor/s:', 'None', 'CONFIDENTIAL', 'This document is confidential and the property of The University of Melbourne. No part of it may', 'be transmitted, reproduced, published, or used without prior written authorization from the', 'institution.', 'Statement of Compliance', 'This study will be conducted in compliance with all stipulation of this protocol, the conditions of', 'the ethics committee approval, the NHMRC National Statement on ethical Conduct in Human', 'Research (2007 updated 2018). Australian Code for the Responsible Conduct of', 'Research, 2018 (the Code) and the principles of the Note for Guidance on Good Clinical', 'Practice (CPMP/ICH-135/95).']\",\n",
    "#  '- MSQOL-54, Multiple Sclerosis Quality of Life-54 instrument ',\n",
    "#  '- IPAQ-SF, International Physical Activity Questionnaire - Short Form',\n",
    "#  '- FSS, Fatigue Severity Scale ',\n",
    "#  '- MAQ, Mindfulness Adherence Questionnaire ',\n",
    "#  '- PDDS, Patient-Determined Disease Steps ',\n",
    "#  '- PHC, Physical Health Composite',\n",
    "#  '- MHC, Mental Health Composite',\n",
    "#  '- MSPSS, Multidimensional Scale of Perceived Social Support ',\n",
    "#  '- UWSE, University of Washington Self-Efficacy',\n",
    "#  '- Diet Habits Questionnaire',\n",
    "#  '- NEU Multiple Sclerosis Online Course (MSOC) ',\n",
    "#  '- Dermatology Life Quality Index (DLQI)',\n",
    "#  '- European Quality of Life 5-Dimension Questionnaire (EQ-5D)',\n",
    "#  '- IPAQ-SF, The International Physical Activity Questionnaire - Short Form',\n",
    "#  '- DHQ, Diet Habits Questionnaire',\n",
    "#  'Study Name: An Online Educational Course for People with MS: A randomised controlled trial of course effectiveness',\n",
    "#  'Protocol Number: 1',\n",
    "#  'Version & date: Version 3, dated 13 December 2021',\n",
    "#  '- SCQ, Self-administered Comorbidity Questionnaire',\n",
    "#  '- MSPSS, Multidimensional Scale of Perceived Social Support',\n",
    "#  '- MSQOL-54, Multiple Sclerosis Quality of Life-54',\n",
    "#  '- FSS, Fatigue Severity Scale',\n",
    "#  '- HADS, Hospital Anxiety and Depression Scale',\n",
    "#  '- PDDS, Patient-Determined Disease Steps',\n",
    "#  '- UWSE survey, University of Washington Self-Efficacy survey',\n",
    "#  '- MSQOL-54, Multiple Sclerosis Quality of Life 54',\n",
    "#  '- EQ-5D, European Quality of Life 5-Dimension Questionnaire',\n",
    "#  '- DLQI, Dermatology Life Quality Index',\n",
    "#  'There are no validated clinical questionnaires mentioned in the text. The text describes a randomized controlled trial of an online educational course for people with MS, which includes an integrated lifestyle modification program with seven modules. The study will use qualitative interviewing to assess the effectiveness of the course. The text does not mention any specific questionnaires used in the trial.',\n",
    "#  '- IPAQ-SF, International Physical Activity Questionnaire Short Form',\n",
    "#  '- MAQ, Meditation Assessment Questionnaire',\n",
    "#  '- DHQ, Diet History Questionnaire',\n",
    "#  '- MSQOL-54, Health-related quality of life: MS Quality of Life 54 questionnaire',\n",
    "#  '- PDDS, Patient-determined disease steps',\n",
    "#  '- UWSE-6, Generalized Self-Efficacy Scale',\n",
    "#  '- No other validated clinical questionnaires were found in the text.',\n",
    "#  '- MSQOL-54, Multiple Sclerosis Quality of Life 54-item survey',\n",
    "#  '- UWSE, University of Washington Self-Efficacy Scale',\n",
    "#  'There are no validated clinical questionnaires mentioned in this text.',\n",
    "#  '- DHQ, Dietary Habits Questionnaire',\n",
    "#  '- HADS, Hospital Anxiety and Depression',\n",
    "#  '- UWSE-6, University of Washington Self-Efficacy Scale',\n",
    "#  '- MSQOL54.pdt, Multiple Sclerosis Quality of Life-54',\n",
    "#  '- FSS, Fatigue Severity Scale Questionnaire',\n",
    "#  '- Neuro-QoL, Quality of Life in Neurological Disorders',\n",
    "#  '- IPAQ, International Physical Activity Questionnaire',\n",
    "#  '- PARADISE-24, Psychological And Reactivation and Distress In MS - 24 questionnaire',\n",
    "#  '- FCBP, Females of childbearing potential',\n",
    "#  '- FDA, Food and Drug Administration',\n",
    "#  '- Fatigue Severity Scale',\n",
    "#  '- Mindfulness Adherence Questionnaire',\n",
    "#  '- NARCOMS registry: fatigue assessment',\n",
    "#  '- MS Invigor8',\n",
    "#  '- Self-Administered Comorbidity Questionnaire',\n",
    "#  '- Stress Management for MS',\n",
    "#  '- Mindfulness-Based Stress Reduction',\n",
    "#  '- Vitamin D Supplements Use',\n",
    "#  '- Behavioral Nutrition Interventions',\n",
    "#  '- Body Mass Index',\n",
    "#  '- Interpreting the significance of changes in health-related quality-of-life scores',\n",
    "#  '- Impact of mindful-based stress reduction for people with multiple sclerosis',\n",
    "#  '- Higher quality diet and non-consumption of meat',\n",
    "#  '- Australian standard classification of cultural and ethnic groups',\n",
    "#  '- Self-administered comorbidity questionnaire',\n",
    "#  '- The perceived benefits and barriers to exercise participation',\n",
    "#  '- Health-related quality of life and symptom research in glioblastoma multiforme patients',\n",
    "#  '- Lifestyle factors, demographics and medications associated with depression risk in an international sample of people with multiple sclerosis',\n",
    "#  '- Stress management interventions for multiple sclerosis']"
   ]
  },
  {
   "cell_type": "code",
   "execution_count": 26,
   "metadata": {},
   "outputs": [],
   "source": [
    "# 69\n",
    "# answers = ['- FACT-G (Version 4)\\n- EQ-5D-5L Questionnaire',\n",
    "#  'No validated clinical questionnaires were used in this text.',\n",
    "#  'No validated clinical questionnaires were used in this text.',\n",
    "#  '- EQ-5D-5L, EuroQol group\\n- FACT-G, Functional Assessment of Cancer Therapy-General',\n",
    "#  'No validated clinical questionnaires were used in this text.',\n",
    "#  'No validated clinical questionnaires were used in this text.',\n",
    "#  'No validated clinical questionnaires were used in this text.',\n",
    "#  'No validated clinical questionnaires were used in this text.',\n",
    "#  'No validated clinical questionnaires were used in this text.',\n",
    "#  'No validated clinical questionnaires were used in this text.',\n",
    "#  'No validated clinical questionnaires were used in this text.',\n",
    "#  'No validated clinical questionnaires were used in this text.',\n",
    "#  'No validated clinical questionnaires were used in this text.',\n",
    "#  'No validated clinical questionnaires were used in this text.',\n",
    "#  'No validated clinical questionnaires were used in this text.',\n",
    "#  'No validated clinical questionnaires were used in this text.',\n",
    "#  'No validated clinical questionnaires were used in this text.',\n",
    "#  'No validated clinical questionnaires were used in this text.',\n",
    "#  'No validated clinical questionnaires were used in this text.',\n",
    "#  'No validated clinical questionnaires were used in this text.',\n",
    "#  'No validated clinical questionnaires were used in this text.',\n",
    "#  'No validated clinical questionnaires were used in this text.',\n",
    "#  'No validated clinical questionnaires were used in this text.',\n",
    "#  'No validated clinical questionnaires were used in this text.',\n",
    "#  'No validated clinical questionnaires were used in this text.',\n",
    "#  '- FACT-G (Version 4)\\n- EQ-5D-5L Questionnaire',\n",
    "#  '- EQ-5D-5L questionnaire\\n- FACT-G questionnaire']"
   ]
  },
  {
   "cell_type": "code",
   "execution_count": 27,
   "metadata": {},
   "outputs": [],
   "source": [
    "# 131\n",
    "# answers = ['No validated clinical questionnaires were used in this text.',\n",
    "#  '- MSQOL-54, Multiple Sclerosis Quality of Life-54 instrument\\n- FSS, Fatigue Severity Scale\\n- HADS, Hospital Anxiety and Depression Scale\\n- IPAQ-SF, International Physical Activity Questionnaire - Short Form\\n- MAQ, Mindfulness Adherence Questionnaire\\n- PDDS, Patient-Determined Disease Steps\\n- MSPSS, Multidimensional Scale of Perceived Social Support\\n- UWSE, University of Washington Self-Efficacy',\n",
    "#  'No validated clinical questionnaires were used in this text.',\n",
    "#  'No validated clinical questionnaires were used in this text.',\n",
    "#  'No validated clinical questionnaires were used in this text.',\n",
    "#  'No validated clinical questionnaires were used in this text.',\n",
    "#  'No validated clinical questionnaires were used in this text.',\n",
    "#  'No validated clinical questionnaires were used in this text.',\n",
    "#  'No validated clinical questionnaires were used in this text.',\n",
    "#  'No validated clinical questionnaires were used in this text.',\n",
    "#  '- DHQ, Dietary Habits Questionnaire\\n- HADS, Hospital Anxiety and Depression\\n- UWSE-6, Self-efficacy\\n- MSPSS, Perceived social support\\n- MSQOL54.pdt\\n- FSS, Fatigue Severity Score Questionnaire\\n- MSOC Qualitative interviews.docx, telephone/internet script\\n- Participant Information form.docx, includes consent form\\n- Withdrawal form - MSOC - RCT.docx\\n- Effectiveness survey.pdf\\n- MSOC protocol.pdf\\nNo validated clinical questionnaires were used in this text.',\n",
    "#  '- PARADISE-24, a questionnaire to assess psychosocial difficulties in individuals with multiple sclerosis\\n- University of Washington self-efficacy scale, a self-efficacy scale for people with disabilities\\n- International Physical Activity Questionnaire: 12-country reliability and validity to assess physical activity\\n- Nutritional questionnaire assessing nutrient intake and the association of the inflammatory properties of nutrients and foods with symptom severity in multiple sclerosis\\n- European Journal of Public Health study providing an overview of review evidence of mobile and web 2.0 interventions for weight management, including methodological quality\\n- The effectiveness of self-guided web-based physical activity interventions among patients with a chronic disease: a systematic review\\n- Mindfulness Adherence Questionnaire, a psychometric evaluation of adherence to mindfulness-based meditation practice\\n- Cognitive behavioral therapy for the treatment of depression in people with multiple sclerosis: a systematic review and meta-analysis. \\n- ICF, a questionnaire that characterizes functioning in multiple sclerosis\\n- Modifiable factors influencing relapses and disability in multiple sclerosis. \\n- Associations of lifestyle, medication, and socio-demographic factors with disability in people with multiple sclerosis.',\n",
    "#  'No validated clinical questionnaires were used in this text.',\n",
    "#  'No validated clinical questionnaires were used in this text.']"
   ]
  },
  {
   "cell_type": "code",
   "execution_count": 28,
   "metadata": {},
   "outputs": [],
   "source": [
    "# 122\n",
    "# answers = ['No validated clinical questionnaires were used in this text.',\n",
    "#  'No validated clinical questionnaires were used in this text.',\n",
    "#  'No validated clinical questionnaires were used in this text.',\n",
    "#  'No validated clinical questionnaires were used in this text.',\n",
    "#  'No validated clinical questionnaires were used in this text.',\n",
    "#  'No validated clinical questionnaires were used in this text.',\n",
    "#  'No validated clinical questionnaires were used in this text.',\n",
    "#  '- PROMIS, Pediatric and Adult Profiles',\n",
    "#  'No validated clinical questionnaires were used in this text.',\n",
    "#  'No validated clinical questionnaires were used in this text.',\n",
    "#  'No validated clinical questionnaires were used in this text.',\n",
    "#  'No validated clinical questionnaires were used in this text.',\n",
    "#  'No validated clinical questionnaires were used in this text.',\n",
    "#  'No validated clinical questionnaires were used in this text.',\n",
    "#  'No validated clinical questionnaires were used in this text.',\n",
    "#  'No validated clinical questionnaires were used in this text.',\n",
    "#  'No validated clinical questionnaires were used in this text.',\n",
    "#  'No validated clinical questionnaires were used in this text.',\n",
    "#  'No validated clinical questionnaires were used in this text.',\n",
    "#  'No validated clinical questionnaires were used in this text.',\n",
    "#  'No validated clinical questionnaires were used in this text.',\n",
    "#  'No validated clinical questionnaires were used in this text.',\n",
    "#  'No validated clinical questionnaires were used in this text.',\n",
    "#  'No validated clinical questionnaires were used in this text.',\n",
    "#  'No validated clinical questionnaires were used in this text.',\n",
    "#  'No validated clinical questionnaires were used in this text.']"
   ]
  },
  {
   "cell_type": "code",
   "execution_count": 29,
   "metadata": {},
   "outputs": [],
   "source": [
    "# 27\n",
    "# answers = ['No validated clinical questionnaires were used in this text.',\n",
    "#  '- EQ-5D-5L, European Quality of Life 5-Dimensions 5-Levels\\n- FAQL-PB, Food Allergy Quality of Life - Parental Burden\\n- HADS, Hospital Anxiety and Depression Scale \\n- EQ-5D-Y proxy version, European Quality of Life 5-Dimensions health questionnaire for subjects aged 4-7 years\\n- EQ-5D-Y, European Quality of Life 5-Dimensions health questionnaire for subjects aged 8-12 years\\n- FAQLQ-PF and FAIM-PF, Food Allergy Quality of Life Questionnaire and Food Allergy Independent Measure for subjects aged < 12 years\\n- FAQLQ-PFT and FAIM-PFT, Food Allergy Quality of Life Questionnaire and Food Allergy Independent Measure parent form teenager for subjects aged 13-17 years \\n- FAQLQ-CF and FAIM-CF, Food Allergy Quality of Life Questionnaire and Food Allergy Independent Measure child form for subjects aged 8-12 years\\n- FAQLQ-TF and FAIM-TF, Food Allergy Quality of Life Questionnaire and Food Allergy Independent Measure teenager form for subjects aged 13-17 years \\n- Bespoke global assessment of HRQOL questionnaire\\n- Bespoke assessment of control and confidence questionnaire \\n- Bespoke assessment of food challenge outcomes questionnaire \\n- TSQM-9, Treatment Satisfaction Questionnaire for Medication.',\n",
    "#  'No validated clinical questionnaires were used in this text.',\n",
    "#  '- FAQL-PB Questionnaire\\n- HADS Questionnaire\\n- EQ-5D Questionnaires\\n- Assessments of Control and Confidence\\n- Global Assessments of HRQOL\\n- Assessments of Food Challenge Outcomes\\n- TSQM-9 Questionnaire\\n- Exit Questionnaire\\n- Qualitative Exit Interview\\n- Skin Prick Test\\n- Open-Label Food Challenge\\n- Real-World Peanut Challenge\\n- Lung Function Tests and Assessments of Asthma Control\\n- TNSS Questionnaires\\n- SCORAD Index\\n- PEESS v2.0 Questionnaire',\n",
    "#  '- ACT, Asthma Control Test\\n- C-ACT, Childhood Asthma Control Test\\n- CFR, Code of Federal Regulations\\n- CODITTM, Characterized oral desensitization immunotherapy\\n- CoFAR, Consortium of Food Allergy Research\\n- CTCAE, Common Terminology Criteria for Adverse Events\\n- DBPCFC, Double-blind, placebo-controlled food challenge\\n- EAACI, European Academy of Allergy and Clinical Immunology\\n- EC, Ethics committee (global term including institutional review boards, independent, ethics committees, research ethics committees, and the like)\\n- EoE, Eosinophilic esophagitis\\n- EQ-5D, European Quality of Life 5-Dimensions health questionnaire\\n- EQ-5D-5L, EQ-5D 5-Levels\\n- EQ-5D-Y, EQ-5D Youth\\n- FAIM, Food Allergy Independent Measure\\n- FAIM-CF, FAIM - child form\\n- FAIM-PF, FAIM - parent form\\n- FAIM-PFT, FAIM - parent form teenager\\n- FAIM-TF, FAIM - teenager form\\n- FAQL-PB, Food Allergy Quality of Life - Parental Burden\\n- FAQLQ, Food Allergy Quality of Life Questionnaire\\n- FAQLQ-CF, FAQLQ - child form\\n- FAQLQ-PF, FAQLQ - parent form\\n- FAQLQ-PFT, FAQLQ - parent form teenager\\n- FAQLQ-TF, FAQLQ - teenager form\\n- FEV1, Forced expiratory volume in the first second of expiration\\n- GCP, Good Clinical Practice\\n- GI, Gastrointestinal\\n- HADS, Hospital Anxiety and Depression Scale\\n- HRQOL, Health-related quality of life\\n- ICH, International Council for Harmonisation\\n- ID, Identification\\n- Ig, Immunoglobulin\\n- ITT, Intent-to-treat\\n- IV, Intravenous\\n- NHLBI, National Heart, Lung, and Blood Institute\\n- OIT, Oral immunotherapy\\n- OLFC, Open-label food challenge\\n- PEESS v2.0, Pediatric Eosinophilic Esophagitis Symptom Scores version 2.0\\n- PEFR, Peak expiratory flow rate\\n- RWPC, Real-world peanut challenge\\n- SCORAD, Scoring atopic dermatitis\\n- SPT, Skin prick test\\n- TNSS, Total Nasal Symptom Score\\n- TSQM-9, Treatment Satisfaction Questionnaire for Medication\\n- WHO-DD, World Health Organization Drug Dictionary',\n",
    "#  'No validated clinical questionnaires were used in this text.',\n",
    "#  'No validated clinical questionnaires were used in this text.',\n",
    "#  'No validated clinical questionnaires were used in this text.',\n",
    "#  '- FCBP, Females of childbearing potential',\n",
    "#  'No validated clinical questionnaires were used in this text.',\n",
    "#  'No validated clinical questionnaires were used in this text.',\n",
    "#  'No validated clinical questionnaires were used in this text.',\n",
    "#  'No validated clinical questionnaires were used in this text.',\n",
    "#  'No validated clinical questionnaires were used in this text.',\n",
    "#  'No validated clinical questionnaires were used in this text.',\n",
    "#  'No validated clinical questionnaires were used in this text.',\n",
    "#  'No validated clinical questionnaires were used in this text.',\n",
    "#  'No validated clinical questionnaires were used in this text.',\n",
    "#  'No validated clinical questionnaires were used in this text.',\n",
    "#  'No validated clinical questionnaires were used in this text.',\n",
    "#  'No validated clinical questionnaires were used in this text.',\n",
    "#  '- EQ-5D-5L, European Quality of Life 5-Dimensions health questionnaire\\n- EQ-5D-Y, EQ-5D Youth\\n- FAQL-PB questionnaire, Food Allergy Quality of Life - Parental Burden\\n- HADS questionnaire, Hospital Anxiety and Depression Scale\\n- FAQLQ-PF and FAIM-PF, completed by parent/caregiver of subjects aged < 12 years and measures parent/caregiver perception of disease severity and expectation of allergen exposure outcome for their child/teenager\\n- FAQLQ-PFT and FAIM-PFT, completed by parent/caregiver of subjects aged 13 to 17 years and measures parent/caregiver perception of disease severity and expectation of allergen exposure outcome for their child/teenager\\n- FAQLQ-CF, FAQLQ-TF, FAIM-CF, and FAIM-TF, measuring emotional impact, allergen avoidance, dietary restrictions, and risk of accidental exposure with response options from 0 (no impact) to 6 (extreme impact) completed by subject depending on age group\\n- Bespoke global assessment of HRQOL on parent/caregiver form, teenager form, and child form completed by subject based on their age group\\n- TSQM-9 questionnaire, Treatment Satisfaction Questionnaire for Medication\\n- Bespoke exit questionnaire completed by parent/caregiver of AR101-treated subject and AR101-treated subject aged > 13 years at study exit or early discontinuation\\n- Qualitative exit interview conducted in a random sample of parents/caregivers and subjects aged > 13 years at study exit or early discontinuation.',\n",
    "#  'No validated clinical questionnaires were used in this text.',\n",
    "#  'No validated clinical questionnaires were used in this text.',\n",
    "#  '- FAQLQ-PF, Food Allergy Quality of Life Questionnaire-Parent Form\\n- FAQLQ-PFT, Food Allergy Quality of Life Questionnaire-Teenager Form\\n- FAQLQ-CF, Food Allergy Quality of Life Questionnaire-Child Form\\n- FAQLQ-TF, Food Allergy Quality of Life Questionnaire-Toddler Form\\n- FAIM-PF, Food Allergy Independent Measure-Parent Form\\n- FAIM-PFT, Food Allergy Independent Measure-Teenager Form\\n- FAIM-CF, Food Allergy Independent Measure-Child Form\\n- FAIM-TF, Food Allergy Independent Measure-Toddler Form\\n- EQ-5D, European Quality of Life 5-Dimension Questionnaire\\n- FAQL-PB, Food Allergy Quality of Life Questionnaire-Peanut Butter Form\\n- HADS, Hospital Anxiety and Depression Scale\\n- TSQM-9, Treatment Satisfaction Questionnaire for Medication-9',\n",
    "#  'No validated clinical questionnaires were used in this text.',\n",
    "#  'No validated clinical questionnaires were used in this text.',\n",
    "#  'No validated clinical questionnaires were used in this text.',\n",
    "#  '- European Task Force on Atopic Dermatitis. Severity scoring of atopic dermatitis: the SCORAD index.\\n- Factor JM, Mendelson L, Lee J, Nouman G, Lester MR. Effect of oral immunotherapy to peanut on food-specific quality of life.\\n- Flokstra-de Blok BM, DunnGalvin A, Vlieg-Boerstra BJ, Oude Elberink JN, Duiverman EJ,Hourihane JO, et al. Development and validation of a self-administered Food Allergy Quality of Life Questionnaire for children.\\n- Flokstra-de Blok BM, DunnGalvin A, Vlieg-Boerstra BJ, Oude Elberink JN, Duiverman EJ,Hourihane JO, et al. Development and validation of the self-administered Food Allergy Quality of Life Questionnaire for adolescents.\\n- Franciosi JP, Hommel KA, DeBrosse CW, Greenberg AB, Greenler AJ, Abonia JP, et al. Development of a validated patient-reported symptom metric for pediatric eosinophilic esophagitis: qualitative methods.\\n- Franxman TJ, Howe L, Teich E, Greenhawt MJ. Oral food challenge and food allergy quality of life in caregivers of children with food allergy.\\n- Gupta R, Holdford D, Bilaver L, Dyer A, Holl JL, Meltzer D. The economic impact of childhood food allergy in the United States.\\n- Hofmann AM, Scurlock AM, Jones SM, Palmer KP, Lokhnygina Y, Steele PH, et al. Safety of a peanut oral immunotherapy protocol in children with peanut allergy.\\n- Jones SM, Pons L, Roberts JL, Scurlock AM, Perry TT, Kulis M, et al. Clinical efficacy and immune regulation with peanut oral immunotherapy.\\n- Keet CA, Frischmeyer-Guerrerio PA, Thyagarajan A, Schroeder JT, Hamilton RG, Boden S, et al. The safety and efficacy of sublingual and oral immunotherapy for milk allergy.\\n- Kim EH, Bird JA, Kulis M, Laubach S, Pons L, Shreffler W, et al. Sublingual immunotherapy for peanut allergy: clinical and immunologic evidence of desensitization.\\n- King RM, Knibb RC, Hourihane JO. Impact of peanut allergy on quality of life, stress and anxiety in the family.\\n- Knibb RC, Stalker C. Validation of the Food Allergy Quality of Life - Parental Burden Questionnaire in the UK.\\n- Liu AH, Zeiger R, Sorkness C, Mahr T, Ostrom N, Burgess S, et al. Development and cross-sectional validation of the Childhood Asthma Control Test.\\n- Martin LJ, Franciosi JP, Collins MH, Abonia JP, Lee JJ, Hommel KA, et al. Pediatric Eosinophilic Esophagitis Symptom Scores (PEESS v2.0) identify histologic and molecular correlates of the key clinical features of disease.\\n- McKenna C, Klontz KC. Systemic allergic reaction following ingestion of undeclared peanut flour in a peanut-sensitive woman.\\n- Mills EN, Mackie AR, Burney P, Beyer K, Frewer L, Madsen C, et al. The prevalence, cost and basis of food allergy across Europe.\\n- Muraro A, Roberts G, Clark A, Eigenmann PA, Halken S, Lack G, et al. The management of anaphylaxis in childhood: position paper of the European academy of allergology and clinical immunology.\\n- National Asthma Education and Prevention Program. Expert panel report 3: guidelines for the diagnosis and management of asthma.\\n- Porterfield HS, Murray KS, Schlichting DG, Chen X, Hansen KC, Duncan MW, et al. Effector activity of peanut allergens: a critical role for Ara h 2, Ara h 6, and their variants.\\n- Primeau MN, Kagan R, Joseph L, Lim H, Dufresne C, Duffy C, et al. The psychological burden of peanut allergy as perceived by adults with peanut allergy and the parents of peanut-allergic children.\\n- Sampson HA, Aceves S, Bock SA, James J, Jones S, Lang D, et al. Food allergy: a practice parameter update-2014.\\n- Sampson HA, Muñoz-Furlong A, Campbell RL, Adkinson NF, Bock SA, Branum A, et al. Second symposium on the definition and management of anaphylaxis: summary report - Second National Institute of Allergy and Infectious Disease/Food Allergy and Anaphylaxis Network symposium.\\n- Schatz M, Sorkness CA, LiJT, Marcus P, Murray JJ, Nathan RA, et al. Asthma Control Test: reliability, validity, and responsiveness in patients not previously followed by asthma specialists.\\n- Sicherer SH, Burks AW, Sampson HA. Clinical features of acute allergic reactions to peanut and tree nuts in children.\\n- Skolnick HS, Conover-Walker MK, Koerner CB, Sampson HA, Burks W, Wood RA. The natural history of peanut allergy.\\n- Soller L, Hourihane J, DunnGalvin A. The impact of oral food challenge tests on food allergy health-related quality of life.\\n- Turner PJ, Campbell DE. Implementing primary prevention for peanut allergy at a population level.\\n- Turner PJ, Gowland MH, Sharma V, Ierodiakonou D, Harper N, Garcez T, et al. Increase in anaphylaxis-related hospitalizations but no increase in fatalities: an analysis of United Kingdom national anaphylaxis data, 1992-2012.\\n- Valentine AZ, Knibb RC. Exploring quality of life in families of children living with and without a',\n",
    "#  'No validated clinical questionnaires were used in this text.',\n",
    "#  'No validated clinical questionnaires were used in this text.',\n",
    "#  'No validated clinical questionnaires were used in this text.',\n",
    "#  'No validated clinical questionnaires were used in this text.',\n",
    "#  '- EQ-5D\\n- FAQL-PB\\n- HADS\\n- FAQLQ\\nNo validated clinical questionnaires were used in this text.',\n",
    "#  'No validated clinical questionnaires were used in this text.',\n",
    "#  'No validated clinical questionnaires were used in this text.',\n",
    "#  '- EQ-5D, European Quality of Life 5-Dimensions health questionnaire\\n- FAQL-PB, Food Allergy Quality of Life - Parental Burden\\n- FAQLQ, Food Allergy Quality of Life Questionnaire\\n- HADS, Hospital Anxiety and Depression Scale',\n",
    "#  '- PEESS v2.0, Pediatric Eosinophilic Esophagitis Symptom Scores version 2.0.']"
   ]
  },
  {
   "cell_type": "code",
   "execution_count": 30,
   "metadata": {},
   "outputs": [],
   "source": [
    "# 73\n",
    "# answers = ['No validated clinical questionnaires were used in this text.',\n",
    "#  'No validated clinical questionnaires were used in this text.',\n",
    "#  'No validated clinical questionnaires were used in this text.',\n",
    "#  'No validated clinical questionnaires were used in this text.',\n",
    "#  'No validated clinical questionnaires were used in this text.',\n",
    "#  'No validated clinical questionnaires were used in this text.',\n",
    "#  'No validated clinical questionnaires were used in this text.',\n",
    "#  'No validated clinical questionnaires were used in this text.',\n",
    "#  'No validated clinical questionnaires were used in this text.',\n",
    "#  'No validated clinical questionnaires were used in this text.',\n",
    "#  'No validated clinical questionnaires were used in this text.',\n",
    "#  '- Fullerton Advanced Balance Scale\\n- Falls Efficacy Scale\\n- SF-36\\n- Geriatric Depression Scale\\n- Geriatric Anxiety Scale\\n- Apathy Evaluation Scale\\n- Expanded Short Physical Performance Battery\\n- Zarit Caregiver Burden Scale\\n- Neuropsychiatric Inventory Questionnaire\\n- Alternative Uses Task\\n- Postural Sway\\n- Gait Speed and Variability\\n- Timed Up and Go\\n- Philadelphia Mindfulness Scale\\n- Abbreviated Cognitive Battery\\n- Multisensory Reaction Time\\n- MRI scan of brain (not a questionnaire)\\n- IMOVE Protocol, Version 6.0 (not a questionnaire)',\n",
    "#  'No validated clinical questionnaires were used in this text.',\n",
    "#  'No validated clinical questionnaires were used in this text.',\n",
    "#  'No validated clinical questionnaires were used in this text.',\n",
    "#  'No validated clinical questionnaires were used in this text.',\n",
    "#  'No validated clinical questionnaires were used in this text.',\n",
    "#  'No validated clinical questionnaires were used in this text.',\n",
    "#  'No validated clinical questionnaires were used in this text.',\n",
    "#  'No validated clinical questionnaires were used in this text.',\n",
    "#  'No validated clinical questionnaires were used in this text.',\n",
    "#  'No validated clinical questionnaires were used in this text.',\n",
    "#  'No validated clinical questionnaires were used in this text.']"
   ]
  },
  {
   "cell_type": "code",
   "execution_count": 31,
   "metadata": {},
   "outputs": [],
   "source": [
    "# 32\n",
    "# answers = ['None found.',\n",
    "#  'DLQI, Dermatology Life Quality Index\\nEQ-5D, European Quality of Life 5-Dimension Questionnaire\\nItch Numeric Rating Scale (NRS)\\nSkin Discomfort/Pain Visual Analog Scale (VAS)\\nBody Surface Area (BSA)\\nPsoriasis Area and Severity Index (PASI)\\nPatient Benefit Index (PBI)\\nThe Work Productivity and Activity Impairment Questionnaire: Psoriasis (WPAI: PSO)',\n",
    "#  '- DLQI, Dermatology Life Quality Index\\n- EQ-5D, The European Quality of Life 5-Dimension Questionnaire\\n- FCBP, Serum and Urine Pregnancy Tests for Females of Childbearing Potential',\n",
    "#  'None found.',\n",
    "#  'None found',\n",
    "#  'DLQI, Dermatology Life Quality Index\\nEQ-5D, European Quality of Life 5-Dimension',\n",
    "#  'DLQI, Dermatology Life Quality Index',\n",
    "#  'None found.',\n",
    "#  '- DLQI, Dermatology Life Quality Index\\n- EQ-5D, European Quality of Life 5-Dimension\\n- NAPSI, Nail Psoriasis Severity Index\\n- PASI, Psoriasis Area Severity Index\\n- PNQ, Patient Needs Questionnaire\\n- PBQ, Patient Benefit Questionnaire\\n- PPPGA, Palmoplantar Psoriasis Physicians Global Assessment\\n- ScPGA, Scalp Physician Global Assessment\\n- sPGA, static Physicians Global Assessment\\n- sPGA-G, static Physicians Global Assessment of Genitalia\\n- VAS, Visual Analog Scale\\n- WPAI:PSO, Work Productivity and Activity Impairment Questionnaire: Psoriasis.',\n",
    "#  'DLQI, Dermatology Life Quality Index',\n",
    "#  '- Patient Benefit Index (PBI)\\n- Patient Needs Questionnaire (PNQ)\\n- Patient Benefit Questionnaire (PBQ)\\n- European Quality of Life 5-Dimension Questionnaire (EQ-5D)\\n- Work Productivity and Activity Impairment Questionnaire: Psoriasis (WPAI: PSO)',\n",
    "#  'None found.',\n",
    "#  'None found.',\n",
    "#  'None found.',\n",
    "#  'None found.',\n",
    "#  'None found.',\n",
    "#  'None found.',\n",
    "#  'None found.',\n",
    "#  'None found.',\n",
    "#  'None found.',\n",
    "#  '- DLQI, Dermatology Life Quality Index\\n- EQ-5D, European Quality of Life 5-Dimension Questionnaire\\n- EMA, European Medicines Agency',\n",
    "#  '- DLQI, Dermatology Life Quality Index\\n- sPGA, Static Physicians Global Assessment\\n- ScPGA, Scalp Physician Global Assessment\\n- NAPSI, Nail Psoriasis Severity Index',\n",
    "#  '- Modified Static Physician Global Assessment of Genitalia (Modified sPGA-G)\\n- Palmoplantar Psoriasis Physicians Global Assessment (PPPGA)\\n- Itch Numeric Rating Scale (NRS)\\n- Skin Discomfort/Pain Visual Analog Scale (VAS)\\n- Psoriasis Area Severity Index (PASI)',\n",
    "#  'EQ-5D, European Quality of Life 5-Dimension Questionnaire',\n",
    "#  '- European Quality of Life 5-Dimension Questionnaire (EQ-5D)\\n- Work Productivity and Activity Impairment Questionnaire: Psoriasis (WPAI: PSO)\\n- Waist Circumference Measurement & Body Mass Index',\n",
    "#  'None found.',\n",
    "#  'None found.',\n",
    "#  'None found.',\n",
    "#  'None found.',\n",
    "#  'None found.']"
   ]
  },
  {
   "cell_type": "code",
   "execution_count": 32,
   "metadata": {},
   "outputs": [],
   "source": [
    "# answers = [\"Dermatology Life Quality Index (DLQI)\",\n",
    "# \"DLQI\",\n",
    "# \"DLQI\",\n",
    "# \"Itch Numeric Rating Scale (NRS)\",\n",
    "# \"Skin Discomfort/Pain Visual Analog Scale (VAS)\",\n",
    "# \"Body Surface Area (BSA)\",\n",
    "# \"Patient Benefit Index (PBI)\",\n",
    "# \"Psoriasis Area Severity Index (PASI)\",\n",
    "# \"European Quality of Life 5- Dimension (EQ-5D)\",\n",
    "# \"Work Productivity and Activity Impairment Questionnaire: Psoriasis (WPAI: PSO)\",\n",
    "# \"Treatment-emergent Adverse events\",\n",
    "# \"Clinically significant changes in body weight, waist circumference, vital signs, and/or laboratory findings\",\n",
    "# \"Static Physician Global Assessment (sPGA) of Visible locations\",\n",
    "# \"Scalp Physician Global Assessment (ScPGA)\",\n",
    "# \"Nail Psoriasis Severity Index (NAPSI)\",\n",
    "# \"Modified Static Physician Global Assessment-Genitalia (sPGA-G)\",\n",
    "# \"Palmoplantar Psoriasis Physician Global Assessment (PPPGA)\"]"
   ]
  },
  {
   "cell_type": "code",
   "execution_count": null,
   "metadata": {},
   "outputs": [],
   "source": []
  },
  {
   "attachments": {},
   "cell_type": "markdown",
   "metadata": {},
   "source": [
    "find short name"
   ]
  },
  {
   "cell_type": "code",
   "execution_count": 33,
   "metadata": {},
   "outputs": [],
   "source": [
    "def key(tup):\n",
    "    return tup[1]"
   ]
  },
  {
   "cell_type": "code",
   "execution_count": 34,
   "metadata": {},
   "outputs": [],
   "source": [
    "def answer_cleaning(my_list):\n",
    "    temp_list1 = []\n",
    "    temp_list2 = []\n",
    "    temp_list3 = []\n",
    "    temp_list4 = []\n",
    "    for x in my_list:\n",
    "        if not x == 'Not found.':\n",
    "            # if not x == 'No validated clinical questionnaires were used in this text.':\n",
    "            temp_list1.append(x)\n",
    "    for y in temp_list1:\n",
    "        split = y.split('\\n')\n",
    "        for s in split:\n",
    "            temp_list2.append(s)\n",
    "    for z in temp_list2:\n",
    "        if not 'not a questionnaire' in z:\n",
    "            temp_list3.append(z)\n",
    "    for string in temp_list3:\n",
    "        tokens = string.split()\n",
    "        tokens = [token if token != 'questionnaire' else '' for token in tokens]\n",
    "        tokens = [token if token != 'Questionnaire' else '' for token in tokens]\n",
    "        string = ' '.join(tokens)\n",
    "        temp_list4.append(string)\n",
    "    return temp_list4"
   ]
  },
  {
   "cell_type": "code",
   "execution_count": 35,
   "metadata": {},
   "outputs": [],
   "source": [
    "def weighted_iter_long(string, long=True):\n",
    "    matches = []\n",
    "    choices = mapi.long_name\n",
    "    if long == False:\n",
    "        choices = mapi.short_name\n",
    "    cut_off = 0.7\n",
    "\n",
    "    for choice in choices:\n",
    "        score = rapidfuzz.distance.Levenshtein.normalized_similarity(string, choice, processor=rapidfuzz.utils.default_process, weights=(0.999999,1,1))\n",
    "        if score >= cut_off and \"...\" not in choice:\n",
    "            matches.append((choice, score))\n",
    "        \n",
    "    matches = sorted(matches, key=key, reverse=True)\n",
    "    \n",
    "    return matches"
   ]
  },
  {
   "cell_type": "code",
   "execution_count": 36,
   "metadata": {},
   "outputs": [],
   "source": [
    "def weighted_iter_short(string):\n",
    "    matches = []\n",
    "    tokens = string.split()\n",
    "    tokens = [token if token != 'questionnaire' else '' for token in tokens]\n",
    "    choices = mapi.short_name\n",
    "    cut_off = 0.7\n",
    "    for token in tokens:\n",
    "        for choice in choices:\n",
    "            score = rapidfuzz.distance.Levenshtein.normalized_similarity(token, choice, processor=rapidfuzz.utils.default_process, weights=(1,0.999999,1))\n",
    "            if score >= cut_off and \"...\" not in choice:\n",
    "                matches.append((choice, score))\n",
    "        \n",
    "    matches = sorted(matches, key=key, reverse=True)\n",
    "    \n",
    "    return matches"
   ]
  },
  {
   "cell_type": "code",
   "execution_count": 37,
   "metadata": {},
   "outputs": [],
   "source": [
    "# join algorithms to match name\n",
    "def long_compound(string, long=True):\n",
    "\n",
    "    weighted = weighted_iter_long(string,long)\n",
    "    ratio = []\n",
    "    for answer in weighted:\n",
    "        y = rapidfuzz.fuzz.partial_ratio(string, answer[0])/100\n",
    "        score = answer[1] + y\n",
    "        ratio.append((answer[0], score))\n",
    "    actual = []\n",
    "    for answer in ratio:\n",
    "        x = rapidfuzz.distance.Levenshtein.normalized_similarity(string, answer[0], weights=(1,1,1))\n",
    "        score = answer[1] + x\n",
    "        actual.append((answer[0], score))\n",
    "    \n",
    "    actual = sorted(actual, key=key, reverse=True)\n",
    "    cutoff = 1.6\n",
    "    if len(actual) > 1:\n",
    "        if actual[1][1] >= cutoff:\n",
    "            actual = actual[0]\n",
    "        else:\n",
    "            actual = ()\n",
    "    elif len(actual) == 1:\n",
    "        if actual[0][1] >= cutoff:\n",
    "            actual = actual[0]\n",
    "        else:\n",
    "            actual = ()\n",
    "    else:\n",
    "        actual = ()\n",
    "    return actual"
   ]
  },
  {
   "cell_type": "code",
   "execution_count": 38,
   "metadata": {},
   "outputs": [],
   "source": [
    "# join algorithms to match name\n",
    "def test_long_compound(string, long=True):\n",
    "\n",
    "    weighted = weighted_iter_long(string,long)\n",
    "    print(weighted)\n",
    "    ratio = []\n",
    "    for answer in weighted:\n",
    "        y = rapidfuzz.fuzz.partial_ratio(string, answer[0])/100\n",
    "        score = answer[1] + y\n",
    "        ratio.append((answer[0], score))\n",
    "    actual = []\n",
    "    for answer in ratio:\n",
    "        x = rapidfuzz.distance.Levenshtein.normalized_similarity(string, answer[0], weights=(1,1,1))\n",
    "        score = answer[1] + x\n",
    "        actual.append((answer[0], score))\n",
    "    \n",
    "    actual = sorted(actual, key=key, reverse=True)\n",
    "    cutoff = 2\n",
    "    if len(actual) > 1:\n",
    "        if actual[1][1] >= cutoff:\n",
    "            actual = actual[0]\n",
    "        else:\n",
    "            actual = ()\n",
    "    elif len(actual) == 1:\n",
    "        if actual[0][1] >= cutoff:\n",
    "            actual = actual[0]\n",
    "        else:\n",
    "            actual = ()\n",
    "    else:\n",
    "        actual = ()\n",
    "    return actual"
   ]
  },
  {
   "cell_type": "code",
   "execution_count": 39,
   "metadata": {},
   "outputs": [
    {
     "data": {
      "text/plain": [
       "0.92"
      ]
     },
     "execution_count": 39,
     "metadata": {},
     "output_type": "execute_result"
    }
   ],
   "source": [
    "rapidfuzz.distance.Levenshtein.normalized_similarity('- Apathy Evaluation Scale','Apathy Evaluation Scale - Self-rated', weights=(0.99,1,1))"
   ]
  },
  {
   "cell_type": "code",
   "execution_count": 40,
   "metadata": {},
   "outputs": [
    {
     "name": "stdout",
     "output_type": "stream",
     "text": [
      "[('Apathy Evaluation Scale - Clinician version', 1.0), ('Apathy Evaluation Scale - Self-rated', 1.0), ('Apathy Evaluation Scale - Informant version', 1.0), ('Japanese Orthopaedic Association Cervical Myelopathy Evaluation Questionnaire', 0.9130434782608696), ('Social Adaptation Self-Evaluation Scale', 0.9130434782608696), ('Japanese Orthopedic Association Back Pain Evaluation Questionnaire', 0.8695652173913043), ('Fear of Negative Evaluation Scale', 0.8695652173913043), ('Brief Version of the Fear of Negative Evaluation Scale', 0.8695652173913043), ('Scale of Anxiety Evaluation in Schizophrenia', 0.8260869565217391), ('Pediatric Evaluation of Disability Inventory™', 0.8260869565217391), ('Multiple System Atrophy health-related Quality of life scale', 0.8260869565217391), ('Pediatric Evaluation of Disability Inventory Computer-Adaptive Tests', 0.8260869565217391), ('Pediatric Evaluation of Disability Inventory-Patient Reported Outcome', 0.8260869565217391), ('Auditory Vocal Hallucination Rating Scale Questionnaire', 0.8260869565217391), (\"Patients' Evaluation of the Quality of Diabetes Care\", 0.8260869565217391), ('Abilities Captured through Interactive Video Evaluation-seated', 0.8260869565217391), ('Patient Health Questionnaire Anxiety and Depression Scale', 0.8260869565217391), (\"Health Care Providers' Pain and Impairment Relationship Scale\", 0.8260869565217391), ('Behavioral Evaluation of Disorders of Sleep Scale', 0.8260869565217391), ('Patient Physician Relationship Scale-Short Form', 0.8260869565217391), ('Patient-Physician Relationship Scale', 0.8260869565217391), ('Adaptation of the Age-Related Vision Loss Scale', 0.8260869565217391), ('Short Form Adaptation of the Age-Related Vision Loss Scale', 0.8260869565217391), ('Pompe-Paediatric Evaluation of Disability Inventory', 0.8260869565217391), ('Familial Amyloid Polyneuropathy specific Rasch-built Overall Disability Scale', 0.8260869565217391), ('Small Fiber Neuropathy-specific Rasch-built overall disability scale', 0.8260869565217391), ('Atopic Dermatitis Screening and Evaluation Questionnaire', 0.8260869565217391), ('Patient and Partner Treatment Satisfaction Scale in Erectile Dysfunction', 0.782608695652174), ('Parent-Adolescent Communication Scale', 0.782608695652174), ('Bristol Rheumatoid Arthritis Fatigue -  Numerical Rating Scale', 0.782608695652174), (\"Tableau d'Evaluation Assistée de la Qualité de Vie\", 0.782608695652174), ('Pain Quality Assessment Scale and Revised Pain Quality Assessment Scale', 0.782608695652174), ('Amyotrophic Lateral Sclerosis Functional Rating Scale', 0.782608695652174), ('Satisfaction With Antipsychotic Medication scale ®', 0.782608695652174), ('Amyotrophic Lateral Sclerosis Functional Rating Scale - Revised version', 0.782608695652174), ('modified Japanese Orthopaedic Association scale', 0.782608695652174), ('National Institute of Mental Health Global Obsessive Compulsive Rating Scale', 0.782608695652174), ('Assessment of SpondyloArthritis International Society Health Index', 0.782608695652174), ('Kujala Patellofemoral Scale or Anterior Knee Pain Scale', 0.782608695652174), ('Allergan Perioral Lines at Maximal Contraction scale', 0.782608695652174), ('Patient Health Questionnaire Somatic, Anxiety, and Depressive Symptom Scales', 0.782608695652174), ('Auditory Hallucination Rating Scale', 0.782608695652174), (\"Rating Scale for Gait Evaluation in Parkinson's Disease - Version 2.0\", 0.782608695652174), ('Pain and Impairment Relationship Scale', 0.782608695652174), ('Spinal and Bulbar Muscular Atrophy Functional Rating Scale', 0.782608695652174), ('Motor Evaluation Scale for Upper Extremity in Stroke Patients - Arm', 0.782608695652174), ('Motor Evaluation Scale for Upper Extremity in Stroke Patients - Hand', 0.782608695652174), ('Psychopathology Instrument for Mentally Retarded Adults-Sexuality Scale', 0.782608695652174), ('The Miami Pediatric Quality of Life Questionnaire: Parent Scale', 0.782608695652174), ('Myotonic Dystrophy type 1 Activity and participation scale', 0.782608695652174), ('Carlo Besta Neurological Institute Foundation – Myasthenia Gravis Scale', 0.782608695652174), ('Facioscapulohumeral Muscular Dystrophy - Rasch-built Overall Disability Scale', 0.782608695652174), ('GastroEsophageal Reflux Disease Health Related Quality of Life scale', 0.782608695652174), ('Amsterdam Preoperative Anxiety and Information Scale', 0.782608695652174), ('Hypospadias Objective Penile Evaluation-score', 0.782608695652174), ('Objective Primary Disease Response Evaluation Criteria', 0.7391304347826086), ('Caregiver Quality Of Life Questionnaire (Physical &amp; Emotional)', 0.7391304347826086), ('Patient Quality Of Life Questionnaire (Physical &amp; Emotional) - Sarcoma', 0.7391304347826086), ('Neonatal Pain, Agitation and Sedation Scale', 0.7391304347826086), ('Lille Apathy Rating Scale', 0.7391304347826086), ('Schedule for the Evaluation of Individual Quality of Life', 0.7391304347826086), ('Gastroesophageal Reflux Disease Symptom Assessment Scale', 0.7391304347826086), ('Standard Evaluation Questionnaire on Pain', 0.7391304347826086), ('Cancer Rehabilitation Evaluation System', 0.7391304347826086), ('Center for Marital and Sexual Health Sexual Functioning Questionnaire', 0.7391304347826086), ('Leeds Assessment of Neuropathic Symptoms and Signs Pain Scale', 0.7391304347826086), ('Quality of End-of-life care and Satisfaction with Treatment scale', 0.7391304347826086), ('REFlective evaLuation of psoriasis Efficacy of Treatment and Severity', 0.7391304347826086), ('Neurological Rating Scale or Scripps Neurological Rating Scale', 0.7391304347826086), ('Inflammatory Neuropathy Cause and Treatment (INCAT) Sensory Sumscore', 0.7391304347826086), ('International Restless Legs Syndrome Study Group Severity Rating Scale', 0.7391304347826086), ('Workplace Activity Limitations Scale', 0.7391304347826086), ('Daily Parent Rating of Evening and Morning Behavior Scale, Revised', 0.7391304347826086), ('Behavior Rating Inventory of Executive Function® - Preschool Version', 0.7391304347826086), ('Peak Pruritus Numerical Rating Scale', 0.7391304347826086), ('Daily Sleep Interference Scale or Daily Sleep Interference Rating Scale', 0.7391304347826086), ('Hemophilia Patient Satisfaction Scale', 0.7391304347826086), ('Standardized Patient Evaluation of Eye Dryness', 0.7391304347826086), ('Patient Evaluation Measure', 0.7391304347826086), ('Swedish Self Evaluation of Communication Experiences after Laryngeal Cancer', 0.7391304347826086), ('Satisfaction with Oral Anti-Diabetic Agents Scale', 0.7391304347826086), ('Yale Evaluation of Suicidality', 0.7391304347826086), ('Myositis Disease Activity Assessment Visual Analogue Scale', 0.7391304347826086), ('QUALIfied for Therapeutic Evaluations of Acute Pain', 0.7391304347826086), ('Modified Krawieka, Goldberg, and Vaughan Psychiatric Assessment 7.5 Scale', 0.7391304347826086), ('Social and Occupational Functioning Assessment Scale', 0.7391304347826086), ('Social and Occupational Functioning Scale for Epilepsy', 0.7391304347826086), ('Crichton Royal Behavioural Rating Scale', 0.7391304347826086), ('Anxiety and Related Disorders Interview Schedule for DSM-5 - Adult Version', 0.7391304347826086), ('Behavior Assessment System for Children - 3rd edition - Parent Rating Scale', 0.7391304347826086), ('Behavior Assessment System for Children - 3rd edition - Teacher Rating Scale', 0.7391304347826086), ('Stigma Towards Healthcare Providers Working with COVID-19 Patients Scale', 0.7391304347826086), ('Occupational Circumstances Assessment Interview and Rating Scale', 0.7391304347826086), ('Availability and Participation Scale', 0.7391304347826086), ('Philadelphia Geriatric Center Affect Rating Scale', 0.7391304347826086), ('Somatosensory Amplification Scale', 0.7391304347826086), ('Attentive Awareness In Relationship Scale - 16 items', 0.7391304347826086), ('Attentive Awareness In Relationship Scale - 8 items', 0.7391304347826086), ('Attentive Awareness In Relationship Scale - 4 items', 0.7391304347826086), ('Bay Area Functional Performance Evaluation-Revised', 0.7391304347826086), ('QUALIfied for Therapeutic Evaluations of Chronic Pain', 0.7391304347826086), ('Fear of Illness and Virus Evaluation-Caregiver Report', 0.7391304347826086), ('Collateral Source Geriatric Depression Scale', 0.7391304347826086), ('Gastro-Intestinal Functional Outcome Scale', 0.7391304347826086), ('Facioscapulohumeral Muscular Dystrophy Functional - Composite Outcome Measure', 0.7391304347826086), ('Schizophrenia Quality of Life Questionnaire Short Form – Clinical Practice', 0.7391304347826086), ('ADherence Evaluation of OSteoporosis treatment', 0.7391304347826086), (\"Pediatric Rheumatology Quality of Life Scale - Parent's Version\", 0.7391304347826086), (\"Pediatric Rheumatology Quality of Life Scale - Child's Version\", 0.7391304347826086), ('Cancer Rehabilitation Evaluation System - Short Form', 0.7391304347826086), ('Rating Scale for Gait Evaluation in Cognitive Deterioration', 0.7391304347826086), ('National Eye Institute Visual Function Questionnaire-25', 0.7391304347826086), ('Retinopathy Treatment Satisfaction Questionnaire (status)', 0.7391304347826086), ('Glaucoma Computer Adaptive Test - Visual Symptoms Scale', 0.7391304347826086), ('Clinical Outcomes in Routine Evaluation - Outcome Measure', 0.7391304347826086)]\n"
     ]
    },
    {
     "data": {
      "text/plain": [
       "('Apathy Evaluation Scale - Self-rated', 2.541666666666667)"
      ]
     },
     "execution_count": 40,
     "metadata": {},
     "output_type": "execute_result"
    }
   ],
   "source": [
    "test_long_compound('- Apathy Evaluation Scale')"
   ]
  },
  {
   "cell_type": "code",
   "execution_count": 41,
   "metadata": {},
   "outputs": [],
   "source": [
    "def short_compound(string):\n",
    "    tokens = string.split()\n",
    "    weighted = weighted_iter_short(string)\n",
    "    ratio = []\n",
    "    for answer in weighted:\n",
    "        for token in tokens:\n",
    "            y = rapidfuzz.fuzz.partial_ratio(token, answer[0])/100\n",
    "            score = answer[1] + y\n",
    "            ratio.append((answer[0], score))\n",
    "    actual = []\n",
    "    for answer in ratio:\n",
    "        for token in tokens:\n",
    "            x = rapidfuzz.distance.Levenshtein.normalized_similarity(string, answer[0], weights=(1,1,1))\n",
    "            score = answer[1] + x\n",
    "            actual.append((answer[0], score))\n",
    "\n",
    "    actual = list(filter(None, actual))\n",
    "    actual = list(dict.fromkeys(actual))\n",
    "    actual = sorted(actual, key=key, reverse=True)\n",
    "    \n",
    "    cutoff = 2\n",
    "    if len(actual) > 1:\n",
    "        if actual[1][1] >= cutoff:\n",
    "            actual = actual[0]\n",
    "        else:\n",
    "            actual = ()\n",
    "    elif len(actual) == 1:\n",
    "        if actual[0][1] >= cutoff:\n",
    "            actual = actual[0]\n",
    "        else:\n",
    "            actual = ()\n",
    "    else:\n",
    "        actual = ()\n",
    "    return actual\n",
    "\n",
    "\n",
    "    return actual"
   ]
  },
  {
   "cell_type": "code",
   "execution_count": 42,
   "metadata": {},
   "outputs": [],
   "source": [
    "# short + long names \n",
    "def joint(string):\n",
    "    short = short_compound(string)\n",
    "    long  = long_compound(string)\n",
    "    print(string, short , long)\n",
    "    best = (long, 'l')\n",
    "    if short and not long:\n",
    "        best = (short,'s')\n",
    "    if short and long:\n",
    "        if short[1] > long[1]:\n",
    "            best = (short,'s')\n",
    "    if best[0]:\n",
    "        best = best[0][0], best[1]\n",
    "    return best"
   ]
  },
  {
   "attachments": {},
   "cell_type": "markdown",
   "metadata": {},
   "source": [
    "match on iteratations of string?"
   ]
  },
  {
   "cell_type": "code",
   "execution_count": 43,
   "metadata": {},
   "outputs": [],
   "source": [
    "def pre_cleaning_answers(my_list):\n",
    "    new = list(filter(None, my_list))\n",
    "    almost = {}\n",
    "    short = []\n",
    "    long = []\n",
    "    for q in new:\n",
    "        if q[1] == 's':\n",
    "            short.append(q[0])\n",
    "        else:\n",
    "            long.append(q[0])\n",
    "    short = list(filter(None, short))\n",
    "    long = list(filter(None, long))\n",
    "    for q in short:\n",
    "        idx = mapi.index[mapi['short_name'] == q]\n",
    "        if mapi.iloc[idx[0]][0] not in almost:\n",
    "            almost[mapi.iloc[idx[0]][0]] = mapi.iloc[idx[0]][1]\n",
    "\n",
    "    for q in long:\n",
    "        idx = mapi.index[mapi['long_name'] == q]\n",
    "        if mapi.iloc[idx[0]][0] not in almost:\n",
    "            almost[mapi.iloc[idx[0]][0]] = mapi.iloc[idx[0]][1]\n",
    "\n",
    "\n",
    "    return almost"
   ]
  },
  {
   "cell_type": "code",
   "execution_count": 44,
   "metadata": {},
   "outputs": [],
   "source": [
    "def list_cleaning(my_list):\n",
    "    temp_list = []\n",
    "    my_list = list(filter(None, my_list))\n",
    "    # my_list = list(itertools.chain.from_iterable(my_list))\n",
    "    for token in my_list:\n",
    "        temp_list.append(rapidfuzz.utils.default_process(token))\n",
    "        temp_list.append(token)\n",
    "    temp_list = list(dict.fromkeys(my_list))\n",
    "\n",
    "    return temp_list"
   ]
  },
  {
   "cell_type": "code",
   "execution_count": 45,
   "metadata": {},
   "outputs": [],
   "source": [
    "cleaned_answers = answer_cleaning(answers)"
   ]
  },
  {
   "cell_type": "code",
   "execution_count": 46,
   "metadata": {},
   "outputs": [
    {
     "data": {
      "text/plain": [
       "['Dermatology Life Quality Index (DLQI)',\n",
       " 'DLQI',\n",
       " 'DLQI',\n",
       " 'Itch Numeric Rating Scale (NRS)',\n",
       " 'Skin Discomfort/Pain Visual Analog Scale (VAS)',\n",
       " 'Body Surface Area (BSA)',\n",
       " 'Patient Benefit Index (PBI)',\n",
       " 'Psoriasis Area Severity Index (PASI)',\n",
       " 'European Quality of Life 5- Dimension (EQ-5D)',\n",
       " 'Work Productivity and Activity Impairment Questionnaire: Psoriasis (WPAI: PSO)',\n",
       " 'Treatment-emergent Adverse events',\n",
       " 'Clinically significant changes in body weight, waist circumference, vital signs, and/or laboratory findings',\n",
       " 'Static Physician Global Assessment (sPGA) of Visible locations',\n",
       " 'Scalp Physician Global Assessment (ScPGA)',\n",
       " 'Nail Psoriasis Severity Index (NAPSI)',\n",
       " 'Modified Static Physician Global Assessment-Genitalia (sPGA-G)',\n",
       " 'Palmoplantar Psoriasis Physician Global Assessment (PPPGA)']"
      ]
     },
     "execution_count": 46,
     "metadata": {},
     "output_type": "execute_result"
    }
   ],
   "source": [
    "cleaned_answers"
   ]
  },
  {
   "cell_type": "code",
   "execution_count": 47,
   "metadata": {},
   "outputs": [
    {
     "name": "stdout",
     "output_type": "stream",
     "text": [
      "Dermatology Life Quality Index (DLQI) ('DLQI', 2.108108108108108) ('Dermatology Life Quality Index', 2.6441441441441444)\n",
      "DLQI ('DLQI', 3.0) ()\n",
      "DLQI ('DLQI', 3.0) ()\n",
      "Itch Numeric Rating Scale (NRS) () ('Worst Itch Numeric Rating Scale', 2.339093701996928)\n",
      "Skin Discomfort/Pain Visual Analog Scale (VAS) () ()\n",
      "Body Surface Area (BSA) () ('Body Surface Area', 2.5118577075098814)\n",
      "Patient Benefit Index (PBI) () ('Patient Benefit Index 2.0', 2.635600412196157)\n",
      "Psoriasis Area Severity Index (PASI) ('PASI', 2.111111111111111) ('Psoriasis Area and Severity Index', 2.458499743983615)\n",
      "European Quality of Life 5- Dimension (EQ-5D) () ('Stroke and Aphasia Quality of Life Scale - 39 item version', 1.7462455347379167)\n",
      "Work Productivity and Activity Impairment Questionnaire: Psoriasis (WPAI: PSO) ('PAI', 2.0384615384615383) ('Work Productivity and Activity Impairment Questionnaire: Psoriasis', 2.7032967032967035)\n",
      "Treatment-emergent Adverse events () ('Patient-Reported Outcomes – Common Terminology Criteria for Adverse Events', 1.7606879606879606)\n",
      "Clinically significant changes in body weight, waist circumference, vital signs, and/or laboratory findings () ()\n",
      "Static Physician Global Assessment (sPGA) of Visible locations () ()\n",
      "Scalp Physician Global Assessment (ScPGA) () (\"Lattice System Physician's Global Assessment\", 1.9910051216389244)\n",
      "Nail Psoriasis Severity Index (NAPSI) ('NAPSI', 2.135135135135135) ('Nail Psoriasis Severity Index', 2.5893393393393396)\n",
      "Modified Static Physician Global Assessment-Genitalia (sPGA-G) () ()\n",
      "Palmoplantar Psoriasis Physician Global Assessment (PPPGA) () ('Generalized Pustular Psoriasis Physician Global Assessment', 2.2036609287063005)\n"
     ]
    }
   ],
   "source": [
    "new = []\n",
    "for answer in cleaned_answers:\n",
    "    new.append(joint(answer))\n"
   ]
  },
  {
   "cell_type": "code",
   "execution_count": 48,
   "metadata": {},
   "outputs": [
    {
     "data": {
      "text/plain": [
       "[('Dermatology Life Quality Index', 'l'),\n",
       " ('DLQI', 's'),\n",
       " ('DLQI', 's'),\n",
       " ('Worst Itch Numeric Rating Scale', 'l'),\n",
       " ((), 'l'),\n",
       " ('Body Surface Area', 'l'),\n",
       " ('Patient Benefit Index 2.0', 'l'),\n",
       " ('Psoriasis Area and Severity Index', 'l'),\n",
       " ('Stroke and Aphasia Quality of Life Scale - 39 item version', 'l'),\n",
       " ('Work Productivity and Activity Impairment Questionnaire: Psoriasis', 'l'),\n",
       " ('Patient-Reported Outcomes – Common Terminology Criteria for Adverse Events',\n",
       "  'l'),\n",
       " ((), 'l'),\n",
       " ((), 'l'),\n",
       " (\"Lattice System Physician's Global Assessment\", 'l'),\n",
       " ('Nail Psoriasis Severity Index', 'l'),\n",
       " ((), 'l'),\n",
       " ('Generalized Pustular Psoriasis Physician Global Assessment', 'l')]"
      ]
     },
     "execution_count": 48,
     "metadata": {},
     "output_type": "execute_result"
    }
   ],
   "source": [
    "new"
   ]
  },
  {
   "cell_type": "code",
   "execution_count": 49,
   "metadata": {},
   "outputs": [],
   "source": [
    "new1 = pre_cleaning_answers(new)"
   ]
  },
  {
   "cell_type": "code",
   "execution_count": 50,
   "metadata": {},
   "outputs": [
    {
     "data": {
      "text/plain": [
       "{'DLQI': 'Dermatology Life Quality Index',\n",
       " 'WI-NRS': 'Worst Itch Numeric Rating Scale',\n",
       " 'BSA': 'Body Surface Area',\n",
       " 'PBI 2.0': 'Patient Benefit Index 2.0',\n",
       " 'PASI': 'Psoriasis Area and Severity Index',\n",
       " 'SAQOL-39': 'Stroke and Aphasia Quality of Life Scale - 39 item version',\n",
       " 'WPAI:PSO': 'Work Productivity and Activity Impairment Questionnaire: Psoriasis',\n",
       " 'PRO-CTCAE': 'Patient-Reported Outcomes – Common Terminology Criteria for Adverse Events',\n",
       " 'LS-PGA': \"Lattice System Physician's Global Assessment\",\n",
       " 'NAPSI': 'Nail Psoriasis Severity Index',\n",
       " 'GPPGA': 'Generalized Pustular Psoriasis Physician Global Assessment'}"
      ]
     },
     "execution_count": 50,
     "metadata": {},
     "output_type": "execute_result"
    }
   ],
   "source": [
    "new1"
   ]
  }
 ],
 "metadata": {
  "kernelspec": {
   "display_name": "Python 3",
   "language": "python",
   "name": "python3"
  },
  "language_info": {
   "codemirror_mode": {
    "name": "ipython",
    "version": 3
   },
   "file_extension": ".py",
   "mimetype": "text/x-python",
   "name": "python",
   "nbconvert_exporter": "python",
   "pygments_lexer": "ipython3",
   "version": "3.9.1"
  },
  "orig_nbformat": 4,
  "vscode": {
   "interpreter": {
    "hash": "12d4f619691cb3c8cdb4fc1bac3542d3bd06428ac0d8596b7ce847b27c5c0d5e"
   }
  }
 },
 "nbformat": 4,
 "nbformat_minor": 2
}
