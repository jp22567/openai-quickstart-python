{
 "cells": [
  {
   "cell_type": "code",
   "execution_count": 1,
   "metadata": {},
   "outputs": [],
   "source": [
    "# Import necessary packages\n",
    "import os\n",
    "import pickle\n",
    "\n",
    "from google.auth.transport.requests import Request\n",
    "\n",
    "from google_auth_oauthlib.flow import InstalledAppFlow\n",
    "from llama_index import GPTSimpleVectorIndex, download_loader\n",
    "from llama_index import (\n",
    "    GPTKeywordTableIndex,\n",
    "    SimpleDirectoryReader,\n",
    "    LLMPredictor,\n",
    "    ServiceContext\n",
    ")\n",
    "from langchain.chat_models import ChatOpenAI"
   ]
  },
  {
   "cell_type": "code",
   "execution_count": 2,
   "metadata": {},
   "outputs": [],
   "source": [
    "def authorize_gdocs():\n",
    "    google_oauth2_scopes = [\n",
    "        \"https://www.googleapis.com/auth/documents.readonly\"\n",
    "    ]\n",
    "    cred = None\n",
    "    if os.path.exists(\"token.pickle\"):\n",
    "        with open(\"token.pickle\", 'rb') as token:\n",
    "            cred = pickle.load(token)\n",
    "    if not cred or not cred.valid:\n",
    "        if cred and cred.expired and cred.refresh_token:\n",
    "            cred.refresh(Request())\n",
    "        else:\n",
    "            flow = InstalledAppFlow.from_client_secrets_file(\"credentials.json\", google_oauth2_scopes)\n",
    "            cred = flow.run_local_server(port=0)\n",
    "        with open(\"token.pickle\", 'wb') as token:\n",
    "            pickle.dump(cred, token)\n"
   ]
  },
  {
   "cell_type": "code",
   "execution_count": 14,
   "metadata": {},
   "outputs": [],
   "source": [
    "# function to authorize or download latest credentials \n",
    "authorize_gdocs()\n",
    "\n",
    "# initialize LlamaIndex google doc reader \n",
    "GoogleDocsReader = download_loader('GoogleDocsReader')\n",
    "\n",
    "# list of google docs we want to index \n",
    "gdoc_ids = ['12ihdlVRd4d_nMw4erslep5HbKIRQU0XmpdCJrqytSBE']\n",
    "\n",
    "loader = GoogleDocsReader()"
   ]
  },
  {
   "cell_type": "code",
   "execution_count": 15,
   "metadata": {},
   "outputs": [
    {
     "name": "stderr",
     "output_type": "stream",
     "text": [
      "INFO:googleapiclient.discovery_cache:file_cache is only supported with oauth2client<4.0.0\n",
      "WARNING:llama_index.llm_predictor.base:Unknown max input size for gpt-3.5-turbo, using defaults.\n",
      "INFO:llama_index.token_counter.token_counter:> [build_index_from_nodes] Total LLM token usage: 0 tokens\n",
      "INFO:llama_index.token_counter.token_counter:> [build_index_from_nodes] Total embedding token usage: 69 tokens\n"
     ]
    }
   ],
   "source": [
    "# load gdocs and index them \n",
    "documents = loader.load_data(document_ids=gdoc_ids)\n",
    "# llm_predictor = LLMPredictor(llm=ChatOpenAI(model_name='gpt-4'))\n",
    "llm_predictor = LLMPredictor(llm=ChatOpenAI(model_name='gpt-3.5-turbo'))\n",
    "service_context = ServiceContext.from_defaults(llm_predictor=llm_predictor)\n",
    "index = GPTSimpleVectorIndex.from_documents(documents, service_context=service_context)\n"
   ]
  },
  {
   "cell_type": "code",
   "execution_count": 16,
   "metadata": {},
   "outputs": [],
   "source": [
    "text = \"\"\"Assessment/Measure\tNo. Questions\tScreening\tBaseline\tComplete Online course\tOne month after Online course\t6 months after Online course\t12 months after Online course\t2.5 years after Online course\n",
    "Informed consent\t1\tNOT SELECTED X\tSELECTED X\tNOT SELECTED X\tNOT SELECTED X\tNOT SELECTED X\tNOT SELECTED X\tNOT SELECTED X\n",
    "Age\t1\tSELECTED X\tSELECTED X\tNOT SELECTED X\tNOT SELECTED X\tNOT SELECTED X\tNOT SELECTED X\tNOT SELECTED X\n",
    "MS type diagnosed\t2\tSELECTED X\tSELECTED X\tNOT SELECTED X\tNOT SELECTED X\tSELECTED X\tSELECTED X\tSELECTED X\n",
    "MS duration\t2\tSELECTED X\tSELECTED X\tNOT SELECTED X\tNOT SELECTED X\tSELECTED X\tSELECTED X\tSELECTED X\n",
    "Do you follow a MS-specific lifestyle program?\t2\tSELECTED X\tSELECTED X\tNOT SELECTED X\tNOT SELECTED X\tSELECTED X\tSELECTED X\tSELECTED  X\n",
    "Do you follow a MS-specific diet\t2\tSELECTED X\tSELECTED X\tNOT SELECTED X\tNOT SELECTED X\tSELECTED X\tSELECTED X\tSELECTED X\n",
    "Sex and gender\t2\tNOT SELECTED X\tSELECTED X\tNOT SELECTED X\tNOT SELECTED X\tNOT SELECTED X\tNOT SELECTED X\tNOT SELECTED X\n",
    "Residential address and country\t1\tNOT SELECTED X\tSELECTED X\tNOT SELECTED X\tNOT SELECTED X\tNOT SELECTED X\tNOT SELECTED X\tSELECTED X\n",
    "Country of birth\t1\tNOT SELECTED X\tSELECTED X\tNOT SELECTED X\tNOT SELECTED X\tNOT SELECTED X\tNOT SELECTED X\tNOT SELECTED X\n",
    "Height/weight\t2\tNOT SELECTED X\tSELECTED X\tNOT SELECTED X\tNOT SELECTED X\tSELECTED X\tSELECTED X\tSELECTED X\n",
    "Comorbidities\t2\tNOT SELECTED X\tSELECTED X\tNOT SELECTED X\tNOT SELECTED X\tSELECTED X\tSELECTED X\tSELECTED X\n",
    "Marital status\t1\tNOT SELECTED X\tSELECTED X\tNOT SELECTED X\tNOT SELECTED X\tSELECTED X\tSELECTED X\tSELECTED X\n",
    "Education\t1\tNOT SELECTED X\tSELECTED X\tNOT SELECTED X\tNOT SELECTED X\tNOT SELECTED X\tNOT SELECTED X\tNOT SELECTED X\n",
    "Employment status\t1\tNOT SELECTED X\tSELECTED X\tNOT SELECTED X\tNOT SELECTED X\tSELECTED X\tSELECTED X\tSELECTED X\n",
    "Alcohol and smoking\t4\tNOT SELECTED X\tSELECTED X\tNOT SELECTED X\tNOT SELECTED X\tSELECTED X\tSELECTED X\tSELECTED X\n",
    "Medications\t4\tNOT SELECTED X\tSELECTED X\tNOT SELECTED X\tNOT SELECTED X\tSELECTED X\tSELECTED X\tSELECTED X\n",
    "Perceived Social Support\t12\tNOT SELECTED X\tSELECTED X\tNOT SELECTED X\tNOT SELECTED X\tSELECTED X\tSELECTED X\tSELECTED X\n",
    "Lifestyle factors\t\tNOT SELECTED X\tNOT SELECTED X\tNOT SELECTED X\tNOT SELECTED X\tNOT SELECTED X\tNOT SELECTED X\tNOT SELECTED X\n",
    "Physical activity: IPAQ-SF\t7\tNOT SELECTED X\tSELECTED X\tNOT SELECTED X\tNOT SELECTED X\tSELECTED X\tSELECTED X\tSELECTED X\n",
    "Meditation: MAQ\t3\tNOT SELECTED X\tSELECTED X\tNOT SELECTED X\tNOT SELECTED X\tSELECTED X\tSELECTED X\tSELECTED X\n",
    "Sun exposure\t4\tNOT SELECTED X\tSELECTED X\tNOT SELECTED X\tNOT SELECTED X\tSELECTED X\tSELECTED X\tSELECTED X\n",
    "Diet quality: DHQ\t21\tNOT SELECTED X\tSELECTED X\tNOT SELECTED X\tNOT SELECTED X\tSELECTED X\tSELECTED X\tSELECTED X\n",
    "Omega-3 intake: dose, frequency\t3\tNOT SELECTED X\tSELECTED X\tNOT SELECTED X\tNOT SELECTED X\tSELECTED X\tSELECTED X\tSELECTED X\n",
    "Vitamin D intake: dose, frequency\t3\tSELECTED  X\tNOT SELECTED X\tNOT SELECTED X\tSELECTED  X\tSELECTED X\tSELECTED X\tSELECTED X\n",
    "Health outcomes\t\tNOT SELECTED X\tNOT SELECTED X\tNOT SELECTED X\tNOT SELECTED X\tNOT SELECTED X\tNOT SELECTED X\tNOT SELECTED X\n",
    "HRQOL: MSQOL-54\t54\tSELECTED X\tNOT SELECTED X\tNOT SELECTED X\tSELECTED X\tSELECTED X\tSELECTED X\tNOT SELECTED X\n",
    "Disability: PDDS\t1\tSELECTED X\tNOT SELECTED X\tNOT SELECTED X\tSELECTED X\tSELECTED X\tSELECTED X\tNOT SELECTED X\n",
    "Anxiety and depression: HADS\t14\tSELECTED X\tNOT SELECTED X\tNOT SELECTED X\tSELECTED X\tSELECTED X\tSELECTED X\tNOT SELECTED X\n",
    "Fatigue: FSS\t9\tSELECTED X\tNOT SELECTED X\tNOT SELECTED X\tSELECTED  X\tSELECTED X\tSELECTED  X\tNOT SELECTED X\n",
    "Self-efficacy: UWSE-6\t6\tSELECTED X\tNOT SELECTED X\tNOT SELECTED X\tSELECTED X\tSELECTED X\tSELECTED X\tNOT SELECTED X\n",
    "Qualitative interviewing\t-7\tNOT SELECTED X\tSELECTED X\tNOT SELECTED X\tNOT SELECTED X\tSELECTED X\tNOT SELECTED X\tNOT SELECTED X\n",
    "\n",
    "\"\"\"\n"
   ]
  },
  {
   "cell_type": "code",
   "execution_count": 17,
   "metadata": {},
   "outputs": [
    {
     "name": "stderr",
     "output_type": "stream",
     "text": [
      "INFO:llama_index.token_counter.token_counter:> [query] Total LLM token usage: 1410 tokens\n",
      "INFO:llama_index.token_counter.token_counter:> [query] Total embedding token usage: 1279 tokens\n"
     ]
    }
   ],
   "source": [
    "prompt = f\"Give me a list of validated clinical questionnaires used in this text: {text}\"\n",
    "\n",
    "response = index.query(prompt)\n",
    "\n"
   ]
  },
  {
   "cell_type": "code",
   "execution_count": 18,
   "metadata": {},
   "outputs": [
    {
     "name": "stdout",
     "output_type": "stream",
     "text": [
      "The list of validated clinical questionnaires used in this text are:\n",
      "- MSQOL-54\n",
      "- HADS\n",
      "- FSS\n",
      "- IPAQ-SF\n"
     ]
    }
   ],
   "source": [
    "print(response)"
   ]
  }
 ],
 "metadata": {
  "kernelspec": {
   "display_name": "Python 3",
   "language": "python",
   "name": "python3"
  },
  "language_info": {
   "codemirror_mode": {
    "name": "ipython",
    "version": 3
   },
   "file_extension": ".py",
   "mimetype": "text/x-python",
   "name": "python",
   "nbconvert_exporter": "python",
   "pygments_lexer": "ipython3",
   "version": "3.9.1"
  },
  "orig_nbformat": 4
 },
 "nbformat": 4,
 "nbformat_minor": 2
}
