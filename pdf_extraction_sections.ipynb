{
 "cells": [
  {
   "cell_type": "code",
   "execution_count": 3,
   "metadata": {},
   "outputs": [],
   "source": [
    "from PyPDF2 import PdfReader\n",
    "import pandas as pd\n",
    "import csv\n",
    "import os\n"
   ]
  },
  {
   "cell_type": "code",
   "execution_count": 2,
   "metadata": {},
   "outputs": [],
   "source": [
    "import PyPDF2"
   ]
  },
  {
   "cell_type": "code",
   "execution_count": 22,
   "metadata": {},
   "outputs": [
    {
     "name": "stdout",
     "output_type": "stream",
     "text": [
      "0001\n"
     ]
    }
   ],
   "source": [
    "name = \"clinical_trial_rank_0001.pdf\"\n",
    "print(name[-8:-4])"
   ]
  },
  {
   "cell_type": "code",
   "execution_count": null,
   "metadata": {},
   "outputs": [],
   "source": [
    "for protocol in os.listdir('protocols'):\n",
    "    pdf_path = f\"protocols/{protocol}\"\n",
    "    try:\n",
    "        reader = PdfReader(pdf_path, strict=True)\n",
    "        number_of_pages = len(reader.pages)\n",
    "        page = reader.pages[0]\n",
    "        text = page.extract_text()\n",
    "        name = f\"trial{protocol[-8:-4]}\"\n",
    "        path = f\"PyPDF_protocols/{name}.csv\"\n",
    "        with open(path, 'x', encoding='utf8') as f:\n",
    "            writer = csv.writer(f)\n",
    "            header = ['','PageNo', 'Text']\n",
    "            writer.writerow(header)\n",
    "            i = 0\n",
    "            while i < number_of_pages:\n",
    "                page = reader.pages[i]\n",
    "                text = page.extract_text()\n",
    "                text = ' '.join(text.split())\n",
    "                data = [i, f'page_{i}', text]\n",
    "                writer.writerow(data)\n",
    "                i += 1\n",
    "    except:\n",
    "        print(protocol)"
   ]
  },
  {
   "cell_type": "code",
   "execution_count": 8,
   "metadata": {},
   "outputs": [],
   "source": [
    "reader = PdfReader(\"clinical_trial_rank_1773.pdf\", strict=True)\n",
    "number_of_pages = len(reader.pages)\n",
    "page = reader.pages[0]\n",
    "text = page.extract_text()"
   ]
  },
  {
   "cell_type": "code",
   "execution_count": 6,
   "metadata": {},
   "outputs": [],
   "source": [
    "reader = PdfReader(\"clinical_trial_rank_1773.pdf\", strict=True)\n",
    "number_of_pages = len(reader.pages)\n",
    "page = reader.pages[0].keys()\n",
    "# text = page.extract_text()"
   ]
  },
  {
   "cell_type": "code",
   "execution_count": 10,
   "metadata": {},
   "outputs": [
    {
     "data": {
      "text/plain": [
       "dict_keys(['/Contents', '/MediaBox', '/Parent', '/Resources', '/StructParents', '/Tabs', '/Type'])"
      ]
     },
     "execution_count": 10,
     "metadata": {},
     "output_type": "execute_result"
    }
   ],
   "source": [
    "page\n"
   ]
  },
  {
   "cell_type": "code",
   "execution_count": 15,
   "metadata": {},
   "outputs": [
    {
     "data": {
      "text/plain": [
       "{'/Count': 7,\n",
       " '/Kids': [IndirectObject(134, 0, 2370531138048),\n",
       "  IndirectObject(1, 0, 2370531138048),\n",
       "  IndirectObject(3, 0, 2370531138048),\n",
       "  IndirectObject(7, 0, 2370531138048),\n",
       "  IndirectObject(9, 0, 2370531138048),\n",
       "  IndirectObject(11, 0, 2370531138048),\n",
       "  IndirectObject(13, 0, 2370531138048)],\n",
       " '/Type': '/Pages'}"
      ]
     },
     "execution_count": 15,
     "metadata": {},
     "output_type": "execute_result"
    }
   ],
   "source": [
    "reader.pages[0]['/Parent']\n"
   ]
  },
  {
   "cell_type": "code",
   "execution_count": 5,
   "metadata": {},
   "outputs": [
    {
     "name": "stdout",
     "output_type": "stream",
     "text": [
      "Official Title of the study:  Effect of breathing exercise on some \n",
      "physiological parameters, sleep quality and vitality in elderly.\n",
      "NCT number:  not yet have \n",
      "Date of the document:  January 1, 2019\n"
     ]
    }
   ],
   "source": [
    "print(text)"
   ]
  },
  {
   "cell_type": "code",
   "execution_count": 86,
   "metadata": {},
   "outputs": [],
   "source": [
    "with open('trial1773.csv', 'w', encoding='utf8') as f:\n",
    "    writer = csv.writer(f)\n",
    "    header = ['','PageNo', 'Text']\n",
    "    writer.writerow(header)\n",
    "    i = 0\n",
    "    while i < number_of_pages:\n",
    "        page = reader.pages[i]\n",
    "        text = page.extract_text()\n",
    "        text = ' '.join(text.split())\n",
    "        data = [i, f'page_{i}', text]\n",
    "        writer.writerow(data)\n",
    "        i += 1"
   ]
  },
  {
   "cell_type": "code",
   "execution_count": 7,
   "metadata": {},
   "outputs": [],
   "source": [
    "pypdf1 = pd.read_csv('trial1.csv')\n",
    "textract = pd.read_csv('text.csv')"
   ]
  },
  {
   "cell_type": "code",
   "execution_count": 88,
   "metadata": {},
   "outputs": [],
   "source": [
    "with open('trial1ocr.csv', 'r+', encoding='utf8') as f:\n",
    "    text = f.readlines()\n",
    "    for line in text:\n",
    "        line.replace(',', '')\n",
    "    "
   ]
  },
  {
   "cell_type": "code",
   "execution_count": null,
   "metadata": {},
   "outputs": [],
   "source": [
    "ocr1 = pd.read_csv('trial1ocr.csv')"
   ]
  },
  {
   "cell_type": "code",
   "execution_count": 90,
   "metadata": {},
   "outputs": [
    {
     "data": {
      "text/plain": [
       "(51, 3)"
      ]
     },
     "execution_count": 90,
     "metadata": {},
     "output_type": "execute_result"
    }
   ],
   "source": [
    "pypdf1.shape"
   ]
  },
  {
   "cell_type": "code",
   "execution_count": 15,
   "metadata": {},
   "outputs": [
    {
     "name": "stdout",
     "output_type": "stream",
     "text": [
      "Non -Interventional Study Protocol Study Short Title Evaluation of the sensitivity and specifi city of a novel quality of life (Qo L) tool to assess the treatment satisfaction in psoriasis patients STUDY IDENTIFICATION No . 2020 -A00652 -37 Full Study T itle Evaluation of the sensitivity and specifi city, compared to DLQI as a standard tool, of a novel QoL questionnaire (treat to the PSOriasis p atient satiSfacti On TARGET ) among moderate to severe psoriasis patient s treated with brodalumab (Kyntheum®) GPP statement: This Non-Interventional Study will be conducted in compliance with the Clinical Study Protocol, G ood Pharmacoepidemiology Practices and applicable regulatory requirement(s). Sponsoring entity : LEO Pharma France LEO Study ID : PSO-TARGET 2 rue René Caudron 215 avenue Georges Clemenceau 78960 Voisins -Le-Bretonneux Date: 25-05-2020 Version: 2.0\n"
     ]
    }
   ],
   "source": [
    "# print(textract['Text'][25])\n",
    "# print()\n",
    "print(pypdf1['Text'][0])\n",
    "# print(' ||| '.join(pypdf1['Text'][0].split('\\n')))\n",
    "# print(textract['Text'][0])"
   ]
  },
  {
   "cell_type": "code",
   "execution_count": 24,
   "metadata": {},
   "outputs": [
    {
     "data": {
      "text/plain": [
       "'clinical_trial_rank_0001.pdf'"
      ]
     },
     "execution_count": 24,
     "metadata": {},
     "output_type": "execute_result"
    }
   ],
   "source": [
    "name"
   ]
  },
  {
   "cell_type": "code",
   "execution_count": 33,
   "metadata": {},
   "outputs": [],
   "source": [
    "name = 'clinical_trial_rank_1773.pdf'"
   ]
  },
  {
   "cell_type": "code",
   "execution_count": 34,
   "metadata": {},
   "outputs": [],
   "source": [
    "from pdfminer.high_level import extract_pages\n",
    "from pdfminer.layout import LTTextContainer, LTChar,LTLine,LAParams\n",
    "import os\n",
    "path= name\n",
    "\n",
    "Extract_Data=[]\n",
    "\n",
    "for page_layout in extract_pages(path):\n",
    "    for element in page_layout:\n",
    "        if isinstance(element, LTTextContainer):\n",
    "            for text_line in element:\n",
    "                bold = False\n",
    "                for character in text_line:\n",
    "                    if isinstance(character, LTChar):\n",
    "                        Font_size=character.size\n",
    "                        if 'Bold' in character.fontname:\n",
    "                            bold = True\n",
    "            Extract_Data.append([Font_size, bold,(element.get_text())])"
   ]
  },
  {
   "cell_type": "code",
   "execution_count": 35,
   "metadata": {},
   "outputs": [
    {
     "data": {
      "text/plain": [
       "[[15.99702400000001,\n",
       "  True,\n",
       "  'Official Title of the study: Effect of breathing exercise on some \\n'],\n",
       " [15.999039999999923,\n",
       "  False,\n",
       "  'physiological parameters, sleep quality and vitality in elderly.\\n'],\n",
       " [15.998176, True, 'NCT number: not yet have \\n'],\n",
       " [15.998288000000002, True, 'Date of the document: January 1, 2019\\n'],\n",
       " [11.997996000000057, True, 'Description of the clinical study\\n'],\n",
       " [11.995499999999993,\n",
       "  False,\n",
       "  'The present study was planned to examine the effect of a breathing exercise intervention, which\\nwas administered to the elderly residents of a nursing home in Ankara, on some physiological\\nparameters, sleep quality and vitality. Breathing exercises can be performed at any time of the\\nday. Due to the effect of some breathing exercises on sleep status, it is not recommended to be\\napplied close to sleeping at night. It is important to evaluate the physical environment in terms\\nof environmental stimuli such as sound, heat, and light, as it affects focusing during breathing\\nexercise. No special clothing or materials are needed during breathing exercises. In order to\\nmake  the  exercise  more  understandable  and  fun,  various  materials  have  been  used  in  some\\nstudies  (balloon,  wind  rose,  etc.).  In  the  literature,  there  are  study  results  showing  that\\nphysiological  effects  are  seen  as  a  result  of  applying  respiratory  exercise  to  the  elderly\\nindividuals for three months, three days a week, 30 minutes, in small groups.\\n'],\n",
       " [11.995595999999978,\n",
       "  False,\n",
       "  'Breathing exercises can be done in different ways. Below are the features of the most frequently\\napplied respiratory breathing exercises.\\n'],\n",
       " [11.993231999999978,\n",
       "  False,\n",
       "  'Pursed Lip Exercise: This exercise reduces the number of breaths by keeping the airways open\\nlonger. It increases the amount of air flow to the lungs. To apply, it is enough to breathe through\\nthe  nose  and  give  the  lips  by  contracting.  Breathing  should  be  like  blowing  a  candle.  The\\nexhalation period should be extended by double the breathing time.\\n'],\n",
       " [11.996784000000048,\n",
       "  False,\n",
       "  'Diaphragmatic  Breathing  Exercise:  The  diaphragmatic  breathing  exercise  shows  its\\neffectiveness by helping this muscle stretch to work more effectively. While sitting comfortably\\nor  lying  down,  one  hand  is  placed  on  the  chest  and  the  other  hand  on  the  abdomen,  it  is\\nnecessary to feel that the abdomen moves out by breathing through the nose. If the abdomen\\nmoves more than the chest, the activity is done correctly. Exercise should be repeated as much\\nas possible during the day.\\n'],\n",
       " [11.99412000000001,\n",
       "  False,\n",
       "  'Cough Exercise: Cough exercise is a breathing exercise designed to effectively get rid of mucus\\nwithout the need to feel very tired. In some individuals, it can create a sense of inhibition when\\ncoughing  mucus.  In  a  comfortable  sitting  position,  after  taking  and  breathing  two  normal\\ndiaphragm breaths, the third one is breathed and the breath is given twice by making “huh huh\\nsound”. This breathing should be like blowing into a mirror to allow the mirror to evaporate.\\nCough exercise should be less tiring than a traditional cough\\n'],\n",
       " [12.003480000000025, True, 'Research hypotheses\\n'],\n",
       " [11.99436,\n",
       "  False,\n",
       "  'H01:  There  is  no  difference  in  lung  functions  between  the  intervention  group  of  elderly\\nindividuals subjected to breathing exercises, and those in the control group.\\n'],\n",
       " [11.99436,\n",
       "  False,\n",
       "  'H02:  There  is  no  difference  in  cardiac  functions  between  the  intervention  group  of  elderly\\nindividuals subjected to breathing exercises, and those in the control group.\\n'],\n",
       " [11.994360000000029,\n",
       "  False,\n",
       "  'H03:  There  is  no  difference  in  sleep  quality  between  the  intervention  group  of  elderly\\nindividuals subjected to breathing exercises, and those in the control group.\\n'],\n",
       " [11.994360000000029,\n",
       "  False,\n",
       "  'H04:  There  is  no  difference  in  subjective  vitality  between  the  intervention  group  of  elderly\\nindividuals subjected to breathing exercises, and those in the control group.\\n'],\n",
       " [12.00120000000004, True, 'Study design and participants\\n'],\n",
       " [11.992775999999935,\n",
       "  False,\n",
       "  'The  study  was  planned  in  a  pre-test–  post-test,  randomized  controlled  (parallel)  and\\nexperimental design. The study will include individuals aged 65 years and older residing in a\\nnursing home in Ankara, who had a Mini Mental Test score of ≥2415, had no acute or chronic\\nlung diseases, and had no physical/mental disabilities or limitations and conditions16,17 that\\nmight present any obstacle to participate in breathing exercises.\\n'],\n",
       " [11.0,\n",
       "  False,\n",
       "  \"In order for the elderly to perform breathing exercise, he / she should not have acute or chronic\\nlung  disease,  cognitive  functions,  physical  /  mental  disability  or  restriction  and  disease  that\\nwould  prevent  them  from  participating  in  respiratory  exercise.  Especially;  ear,  brain,  spinal\\ncord surgery, acute retinal hemorrhage vertebral fracture and diaphragmatic rupture, hiatus or\\nabdominal hernia, acute myocardial infarction, unstable angina pectoris, severe coronary artery\\ndisease,  congestive  heart  failure,  severe  heart  valve  disease,  acute  myocarditis,  acute  and\\nbreathing exercises are not recommended for diseases and health problems such as unstable\\nmusculoskeletal injuries, uncontrolled systemic hypertension, severe dementia and behavioral\\ndisorders. While examining the inclusion criteria, information about the health status of elderly\\nindividuals will be obtained from the files of the nursing home's health unit, and the mini mental\\ntest will be applied by the researcher. \\n\"],\n",
       " [11.996471999999983,\n",
       "  False,\n",
       "  'After the ethical and institutional permits are obtained for the implementation of the study, the\\nelderly individuals (except the mini metal test score) meeting the researcher nursing home will\\nbe identified on 21.01.2019 and the mini mental test measurements of the elderly individuals\\nwill  be  made  in  the  library  of  the  nursing  home  between  22.01.2019  -28.01.2019.  Elderly\\nindividuals who agree to participate in the study will be identified by informing the appropriate\\nindividuals  about  the  study. In  addition,  if  any  of  these  situations  occur  during  the  exercise\\nprogram, the researcher will be informed by the health unit and the elderly individual will be\\nseparated from the study.\\n'],\n",
       " [11.994492000000008,\n",
       "  True,\n",
       "  'Clinical trial facility location and property    \\n'],\n",
       " [11.994528000000003,\n",
       "  False,\n",
       "  'The research was carried out in the 75th Year Nursing Home Elderly Care and Rehabilitation\\nCenter, affiliated to Ankara Family and Social Policies Provincial Directorate. The institution,\\nwhich has a capacity of 294 people, has a director and three deputy directors, 10 nurses, three\\nsocial  workers,  two  psychologists  and  a  sociologist  and  four  physiotherapists.  Breathing\\nexercises  program  is  not  included  in  the  routine  practices  of  the  nursing  home.  In  addition,\\n'],\n",
       " [11.996399999999994,\n",
       "  False,\n",
       "  'activities  such  as  hobby  works,  handicrafts,  music  studies,  sports  activities,  exhibitions  and\\nkermes activities, excursions, cinema days, panel - conferences are carried out. Exercise will be\\nheld in the group activity hall of the physical therapy unit, which is determined as the most\\nsuitable  area  for  elderly  individuals  and  exercise  application  with  the  joint  decision  of  the\\nnursing home management and researcher.\\n'],\n",
       " [11.998847999999953, True, 'Prevention of interaction of groups\\n'],\n",
       " [11.996952000000078,\n",
       "  False,\n",
       "  'In order to reduce the interaction of elderly individuals in the intervention and control groups\\nwith respect to breathing exercise, the exercise room of the physical therapy unit located in a\\ndifferent area than the section where the elderly live is determined as the application area of the\\nexercise.  In  addition,  even  if  there  is  a  sharing  about  breathing  exercise  among  elderly,  the\\napplication should be applied regularly and consciously under the supervision of a specialist in\\norder to reveal the desired success. In this sense, it is thought that the interaction between the\\ngroups has no significant effect.\\n'],\n",
       " [12.00096000000002, True, 'Pre-test\\n'],\n",
       " [11.992643999999984,\n",
       "  False,\n",
       "  'The pre-test application is planned to be done between 29.01.2019 -03.02.2019. In the physical\\ntherapy  unit  of  the  nursing  home,  a  suitable  area  will  be  determined  by  the  researcher  and\\nspecialist physiotherapist, and measurement devices will be placed, elderly individuals in both\\ngroups will be called from the room phone and called for measurement. In order to prevent the\\ndata from being affected by the measurements, introductory information data sheet, Pittsburg\\nSleep Quality Index, Subjective Vitality Scale will be applied, individuals will be rested during\\nthis period, and then cardiological parameters will be evaluated, and finally lung functions will\\nbe evaluated.\\n'],\n",
       " [11.994696000000005,\n",
       "  False,\n",
       "  'A  manual  sphygmomanometer  and  a  pulse  oximeter  device  will  be  used  to  assess  heart\\nfunction.  Sphygmomanometer  is  of  Perfect  Aneroid  type.  The  manometer  chamber  and  the\\nspoon spoon are nickel plated chrome. The manometer is 48 mm in diameter, the cuff outer\\ncloth dimensions are 13x47 cm (+/- 2 cm), the cuff outer cloth is hooked, the cuff inner tube\\nhoses  are  made  of  double-layer,  vulcanized  rubber.  It  is  suitable  for  adult  use.  Finger  pulse\\noximetry device has arterial oxygen saturation and pulse measurement feature. It provides a\\ngraphical view of the pulse. It is suitable for all ages. Evaluation steps are as follows;\\n'],\n",
       " [11.993831999999998,\n",
       "  False,\n",
       "  '• The individual is informed before evaluating his heart functions.\\n'],\n",
       " [11.993904000000015,\n",
       "  False,\n",
       "  '•  The  individual  is  placed  in  a  position  where  the  individual  can  be  comfortable  from  the\\nmeasurement. He should not have used tea, coffee and cigarettes until 15 minutes before the\\nmeasurement.\\n'],\n",
       " [11.994276, False, '• The individual is rested for 3-5 minutes\\n'],\n",
       " [11.994983999999988,\n",
       "  False,\n",
       "  '• Heart rate is measured from the radial artery for one minute\\n'],\n",
       " [11.996543999999972,\n",
       "  False,\n",
       "  '•  For  the  systolic  /  diastolic  blood  pressure,  the  appropriate  arm  is  selected,  the  clothes  are\\nrelaxed / removed, the arm is positioned (must be at 45 ° heart level), the appropriate sleeve is\\nselected (wrap the arm sufficiently). Next, the location of the brachial artery is determined, the\\nair of the cuff is completely evacuated, the lower edge of the cuff is taken 2-2.5 cm above the\\nplace where the brachial artery is palpated, the middle point of the cuff is placed on the brachial\\nartery.  The  receiver  of the stethoscope is placed on the brachial artery without touching the\\nsleeve and clothes and the earpiece is placed on the ear, the cuff is inflated to 30 mmHg above\\nthe previously determined systolic blood pressure value, then the cuff air is discharged to be 2-3\\nmmHg / second.\\n'],\n",
       " [11.99128799999994,\n",
       "  False,\n",
       "  '•  Blue,  black,  green,  brown,  red  nail  polish,  if  any,  in  the  individual  before  the  oxygen\\nsaturation measurement is deleted, artificial nail is removed,\\n'],\n",
       " [11.993363999999929,\n",
       "  False,\n",
       "  '• It is placed on the hand and / or toenail of the light source part of the pulse oximeter,\\n'],\n",
       " [11.996748000000025,\n",
       "  False,\n",
       "  '• Measurements are made for 30 seconds and then the device is removed from the finger \\n'],\n",
       " [11.996052000000077,\n",
       "  False,\n",
       "  '• The data are recorded on the data form created by the researcher.\\n'],\n",
       " [11.994383999999968,\n",
       "  False,\n",
       "  'Evaluation of lung functions will be done in the presence of a specialist physiotherapist. The\\nspecialist physiotherapist does not know the elderly individuals in the experimental and control\\ngroups. Spirometry will be used to evaluate lung function. Spirometry is the basic device of\\nrespiratory function test laboratories. It consists of the electronic part where the measurement is\\nmade and the mouthpiece that the patient breathe. Cosmed Pony FX - Desktop Spirometer and\\ndisposable mouthpieces suitable for the device will be used in the study. This type of spirometer\\nenables  testing  without  the  need  for  a  computer.  It  has  an  internal  memory  where  patient\\ninformation can be stored. It is used with two-way digital turbine flowmeter. Pulse function test\\nmeasurement application steps are as follows;\\n'],\n",
       " [11.994096000000013,\n",
       "  False,\n",
       "  '• Elderly individuals are informed before spirometry is applied.\\n'],\n",
       " [11.996316000000036,\n",
       "  False,\n",
       "  '• The height of the elderly person, body weight is measured and recorded with his age\\n'],\n",
       " [11.992692000000034,\n",
       "  False,\n",
       "  '• Individual disposable mouthpiece is placed in the entry section of the tool.\\n'],\n",
       " [11.993903999999986,\n",
       "  False,\n",
       "  '• The individual puts the mouthpiece in his mouth with his lips, but not to bite with his teeth. It\\nis  important  that  the  lips  close  well.  Otherwise,  leakage  will  occur.  This  causes  incorrect\\nmeasurement.\\n'],\n",
       " [11.993052000000006,\n",
       "  False,\n",
       "  '•  The  nose  of  the  individual  who  is  connected  to  the  spirometer  device  with  the  help  of  a\\nmouthpiece is closed with a special latch before the measurement.\\n'],\n",
       " [11.992751999999996,\n",
       "  False,\n",
       "  '• The individual breathes calmly first (4-5 times)\\n'],\n",
       " [11.995428000000004,\n",
       "  False,\n",
       "  '• It takes a hard, deep and fast breath after normal breathing.\\n'],\n",
       " [11.997744000000012,\n",
       "  False,\n",
       "  '• It is also fast, challenging and exhaled with the command to exhale. Breathing should take at\\nleast 6 seconds.\\n'],\n",
       " [11.994072000000003,\n",
       "  False,\n",
       "  '• This process must be repeated at least 3 times.\\n'],\n",
       " [11.994383999999997,\n",
       "  False,\n",
       "  'The  test  results  are  compared  with  the  expected  values  (predicted  values)  pre-calculated  in\\nhealthy individuals of the same age, height and gender by the software found in the spirometer\\n'],\n",
       " [11.995356000000015,\n",
       "  False,\n",
       "  'device and expressed as a percentage of these values. The obtained results will be sent to the\\nresearcher within 15 days in pdf format by the authorized firm of the spirometer device.\\n'],\n",
       " [11.999471999999969, True, 'Application steps in the intervention group\\n'],\n",
       " [11.996640000000014,\n",
       "  False,\n",
       "  'The  literature  has  been  examined  in  determining  the  duration  of  respiratory  exercise  to  be\\napplied to elderly individuals in the study group. Taking into consideration the methods and\\nsuggestions  of  all  these  studies,  respiratory  exercises  are  planned  in  this  study.  Breathing\\nexercises;  Between  18.02.2019  -09.05.2019,  for  12  weeks,  three  days  a  week  (Monday,\\nTuesday, Thursday) in groups of 5-6 people (2 groups of 6 people, 4 groups of 5 people in total,\\n10.00-15.30 hours) between each group at the same time of the day, 30 min. will be applied for\\na  while.  During  the  breathing  exercise,  no  special  clothing  or  supplies  will  be  needed.\\nDisruptions in participating in the exercise program will be compensated for at the specified\\ntime and day in partnership with the elderly individual and the researcher. The wind rose to be\\nused during the exercise will be provided by the researcher. All types of breathing exercises will\\nbe taught to older individuals on the first day of application and will be shown again by the\\nresearcher prior to the application throughout the application. Dizziness that may occur during\\nbreathing  exercise  may  occur.  Elderly  individuals  will  be  reminded  of  this  before  each\\napplication, and if they experience dizziness, they will be asked to wait for the dizziness to pass\\nby pausing the exercise for a short time. The application of the breathing exercise program is as\\nfollows;\\n'],\n",
       " [11.99685599999998,\n",
       "  False,\n",
       "  'I. Pursed Lip Breathing Exercise (using the Wind rose)\\n'],\n",
       " [11.99389199999996,\n",
       "  False,\n",
       "  '• The individual is seated in a position where he feels comfortable and with clothes,\\n'],\n",
       " [11.996892000000003, False, '• First, breathe slowly through the nose,\\n'],\n",
       " [11.99175600000001, False, '• Lips contract like a whistle\\n'],\n",
       " [11.993436000000031,\n",
       "  False,\n",
       "  '• The wind rose is kept at the level of the mouth at a distance of 25 cm,\\n'],\n",
       " [11.997179999999958,\n",
       "  False,\n",
       "  '• The breath is discharged slowly and for a longer period of time (at least twice the breathing)\\nby blowing from the shrunken lips to the wind rose,\\n'],\n",
       " [11.998415999999963, False, '• Power should be used to exhale,\\n'],\n",
       " [11.994191999999998,\n",
       "  False,\n",
       "  '• This process continues until the breath is interrupted,\\n'],\n",
       " [11.996592000000021,\n",
       "  False,\n",
       "  '• A break is taken for 30 seconds, then the procedure is repeated (Total 10 minutes)\\n'],\n",
       " [11.995224000000007, False, '• 2 minutes break.\\n'],\n",
       " [11.995044000000007, False, 'II. Diaphragmatic breathing exercise\\n'],\n",
       " [11.994023999999996,\n",
       "  False,\n",
       "  '• The active hand is placed on the stomach and the other hand on the chest,\\n'],\n",
       " [11.997779999999977, False, '• Breathing slowly through your nose,\\n'],\n",
       " [11.994407999999993,\n",
       "  False,\n",
       "  '• The abdomen is filled with air and the hand rises,\\n'],\n",
       " [11.995500000000007,\n",
       "  False,\n",
       "  '• The rib cage should rise less than the abdomen,\\n'],\n",
       " [11.995008000000013, False, '• Then, breathing slowly through the mouth,\\n'],\n",
       " [11.995452,\n",
       "  False,\n",
       "  '• 30 seconds break and the process is completed (10 minutes in total),\\n'],\n",
       " [11.995224000000007, False, '• 2 minutes break.\\n'],\n",
       " [11.99944800000003, False, 'III. Cough exercise\\n'],\n",
       " [11.995751999999925,\n",
       "  False,\n",
       "  '• Then a deep breath is taken through the nose,\\n'],\n",
       " [11.994456000000014,\n",
       "  False,\n",
       "  '• After the chest is fully enlarged, mouth is exhaled,\\n'],\n",
       " [11.996639999999957, False, '• This process is repeated twice,\\n'],\n",
       " [11.994792000000075,\n",
       "  False,\n",
       "  '• Take a deep breath for the third time and hold it for 2 seconds,\\n'],\n",
       " [11.995656000000054,\n",
       "  False,\n",
       "  '• Then, two times, \"huh huh\" sound is made and the mouth is exhaled,\\n'],\n",
       " [12.00084000000004, False, '• 30 seconds break,\\n'],\n",
       " [11.995079999999916,\n",
       "  False,\n",
       "  '• Then this process is repeated (Total 10 minutes).\\n'],\n",
       " [11.999663999999939, True, 'Application steps in the control group\\n'],\n",
       " [11.989607999999976,\n",
       "  False,\n",
       "  'No breathing exercise will apply to elderly in the control group. Individuals will continue their\\ndaily lives.\\n'],\n",
       " [12.005400000000009, True, 'Post-test\\n'],\n",
       " [11.993400000000008,\n",
       "  False,\n",
       "  'One day after the end of breathing exercise application, between the dates 10.05.2019 -\\n14.05.2019, elderly individuals will be called by calling from the room telephones in the \\nphysical therapy unit. will be re-evaluated in individuals in both groups\\n']]"
      ]
     },
     "execution_count": 35,
     "metadata": {},
     "output_type": "execute_result"
    }
   ],
   "source": [
    "Extract_Data"
   ]
  }
 ],
 "metadata": {
  "kernelspec": {
   "display_name": "Python 3",
   "language": "python",
   "name": "python3"
  },
  "language_info": {
   "codemirror_mode": {
    "name": "ipython",
    "version": 3
   },
   "file_extension": ".py",
   "mimetype": "text/x-python",
   "name": "python",
   "nbconvert_exporter": "python",
   "pygments_lexer": "ipython3",
   "version": "3.9.1"
  },
  "orig_nbformat": 4,
  "vscode": {
   "interpreter": {
    "hash": "12d4f619691cb3c8cdb4fc1bac3542d3bd06428ac0d8596b7ce847b27c5c0d5e"
   }
  }
 },
 "nbformat": 4,
 "nbformat_minor": 2
}
